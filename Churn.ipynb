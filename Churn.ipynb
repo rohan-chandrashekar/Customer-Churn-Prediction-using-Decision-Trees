{
  "cells": [
    {
      "cell_type": "code",
      "execution_count": 26,
      "metadata": {
        "id": "RZyXLwbMVrVR"
      },
      "outputs": [],
      "source": [
        "import pandas as pd\n",
        "import sklearn as sk\n",
        "import tensorflow as tf\n",
        "import numpy as np\n",
        "import seaborn as sns\n"
      ]
    },
    {
      "cell_type": "code",
      "execution_count": 27,
      "metadata": {
        "colab": {
          "base_uri": "https://localhost:8080/"
        },
        "id": "qRpVxWSi4biN",
        "outputId": "0886f8a9-fc71-4728-de3c-8771321b8389"
      },
      "outputs": [
        {
          "name": "stdout",
          "output_type": "stream",
          "text": [
            "Mounted at /content/drive\n"
          ]
        }
      ],
      "source": [
        "from google.colab import drive\n",
        "drive.mount('/content/drive', force_remount=True)"
      ]
    },
    {
      "cell_type": "code",
      "execution_count": 28,
      "metadata": {
        "colab": {
          "base_uri": "https://localhost:8080/",
          "height": 206
        },
        "id": "WVcoIoOIVrVU",
        "outputId": "2fa11c14-94b1-4ec5-a634-be4a01c7b711"
      },
      "outputs": [
        {
          "data": {
            "text/html": [
              "\n",
              "  <div id=\"df-8970dbdf-4af9-41e7-bb81-701ca4f50512\">\n",
              "    <div class=\"colab-df-container\">\n",
              "      <div>\n",
              "<style scoped>\n",
              "    .dataframe tbody tr th:only-of-type {\n",
              "        vertical-align: middle;\n",
              "    }\n",
              "\n",
              "    .dataframe tbody tr th {\n",
              "        vertical-align: top;\n",
              "    }\n",
              "\n",
              "    .dataframe thead th {\n",
              "        text-align: right;\n",
              "    }\n",
              "</style>\n",
              "<table border=\"1\" class=\"dataframe\">\n",
              "  <thead>\n",
              "    <tr style=\"text-align: right;\">\n",
              "      <th></th>\n",
              "      <th>InvoiceNo</th>\n",
              "      <th>StockCode</th>\n",
              "      <th>Description</th>\n",
              "      <th>Quantity</th>\n",
              "      <th>InvoiceDate</th>\n",
              "      <th>UnitPrice</th>\n",
              "      <th>CustomerID</th>\n",
              "      <th>Country</th>\n",
              "    </tr>\n",
              "  </thead>\n",
              "  <tbody>\n",
              "    <tr>\n",
              "      <th>0</th>\n",
              "      <td>536365</td>\n",
              "      <td>85123A</td>\n",
              "      <td>WHITE HANGING HEART T-LIGHT HOLDER</td>\n",
              "      <td>6</td>\n",
              "      <td>12/1/10 8:26</td>\n",
              "      <td>2.55</td>\n",
              "      <td>17850.0</td>\n",
              "      <td>United Kingdom</td>\n",
              "    </tr>\n",
              "    <tr>\n",
              "      <th>1</th>\n",
              "      <td>536365</td>\n",
              "      <td>71053</td>\n",
              "      <td>WHITE METAL LANTERN</td>\n",
              "      <td>6</td>\n",
              "      <td>12/1/10 8:26</td>\n",
              "      <td>3.39</td>\n",
              "      <td>17850.0</td>\n",
              "      <td>United Kingdom</td>\n",
              "    </tr>\n",
              "    <tr>\n",
              "      <th>2</th>\n",
              "      <td>536365</td>\n",
              "      <td>84406B</td>\n",
              "      <td>CREAM CUPID HEARTS COAT HANGER</td>\n",
              "      <td>8</td>\n",
              "      <td>12/1/10 8:26</td>\n",
              "      <td>2.75</td>\n",
              "      <td>17850.0</td>\n",
              "      <td>United Kingdom</td>\n",
              "    </tr>\n",
              "    <tr>\n",
              "      <th>3</th>\n",
              "      <td>536365</td>\n",
              "      <td>84029G</td>\n",
              "      <td>KNITTED UNION FLAG HOT WATER BOTTLE</td>\n",
              "      <td>6</td>\n",
              "      <td>12/1/10 8:26</td>\n",
              "      <td>3.39</td>\n",
              "      <td>17850.0</td>\n",
              "      <td>United Kingdom</td>\n",
              "    </tr>\n",
              "    <tr>\n",
              "      <th>4</th>\n",
              "      <td>536365</td>\n",
              "      <td>84029E</td>\n",
              "      <td>RED WOOLLY HOTTIE WHITE HEART.</td>\n",
              "      <td>6</td>\n",
              "      <td>12/1/10 8:26</td>\n",
              "      <td>3.39</td>\n",
              "      <td>17850.0</td>\n",
              "      <td>United Kingdom</td>\n",
              "    </tr>\n",
              "  </tbody>\n",
              "</table>\n",
              "</div>\n",
              "      <button class=\"colab-df-convert\" onclick=\"convertToInteractive('df-8970dbdf-4af9-41e7-bb81-701ca4f50512')\"\n",
              "              title=\"Convert this dataframe to an interactive table.\"\n",
              "              style=\"display:none;\">\n",
              "        \n",
              "  <svg xmlns=\"http://www.w3.org/2000/svg\" height=\"24px\"viewBox=\"0 0 24 24\"\n",
              "       width=\"24px\">\n",
              "    <path d=\"M0 0h24v24H0V0z\" fill=\"none\"/>\n",
              "    <path d=\"M18.56 5.44l.94 2.06.94-2.06 2.06-.94-2.06-.94-.94-2.06-.94 2.06-2.06.94zm-11 1L8.5 8.5l.94-2.06 2.06-.94-2.06-.94L8.5 2.5l-.94 2.06-2.06.94zm10 10l.94 2.06.94-2.06 2.06-.94-2.06-.94-.94-2.06-.94 2.06-2.06.94z\"/><path d=\"M17.41 7.96l-1.37-1.37c-.4-.4-.92-.59-1.43-.59-.52 0-1.04.2-1.43.59L10.3 9.45l-7.72 7.72c-.78.78-.78 2.05 0 2.83L4 21.41c.39.39.9.59 1.41.59.51 0 1.02-.2 1.41-.59l7.78-7.78 2.81-2.81c.8-.78.8-2.07 0-2.86zM5.41 20L4 18.59l7.72-7.72 1.47 1.35L5.41 20z\"/>\n",
              "  </svg>\n",
              "      </button>\n",
              "      \n",
              "  <style>\n",
              "    .colab-df-container {\n",
              "      display:flex;\n",
              "      flex-wrap:wrap;\n",
              "      gap: 12px;\n",
              "    }\n",
              "\n",
              "    .colab-df-convert {\n",
              "      background-color: #E8F0FE;\n",
              "      border: none;\n",
              "      border-radius: 50%;\n",
              "      cursor: pointer;\n",
              "      display: none;\n",
              "      fill: #1967D2;\n",
              "      height: 32px;\n",
              "      padding: 0 0 0 0;\n",
              "      width: 32px;\n",
              "    }\n",
              "\n",
              "    .colab-df-convert:hover {\n",
              "      background-color: #E2EBFA;\n",
              "      box-shadow: 0px 1px 2px rgba(60, 64, 67, 0.3), 0px 1px 3px 1px rgba(60, 64, 67, 0.15);\n",
              "      fill: #174EA6;\n",
              "    }\n",
              "\n",
              "    [theme=dark] .colab-df-convert {\n",
              "      background-color: #3B4455;\n",
              "      fill: #D2E3FC;\n",
              "    }\n",
              "\n",
              "    [theme=dark] .colab-df-convert:hover {\n",
              "      background-color: #434B5C;\n",
              "      box-shadow: 0px 1px 3px 1px rgba(0, 0, 0, 0.15);\n",
              "      filter: drop-shadow(0px 1px 2px rgba(0, 0, 0, 0.3));\n",
              "      fill: #FFFFFF;\n",
              "    }\n",
              "  </style>\n",
              "\n",
              "      <script>\n",
              "        const buttonEl =\n",
              "          document.querySelector('#df-8970dbdf-4af9-41e7-bb81-701ca4f50512 button.colab-df-convert');\n",
              "        buttonEl.style.display =\n",
              "          google.colab.kernel.accessAllowed ? 'block' : 'none';\n",
              "\n",
              "        async function convertToInteractive(key) {\n",
              "          const element = document.querySelector('#df-8970dbdf-4af9-41e7-bb81-701ca4f50512');\n",
              "          const dataTable =\n",
              "            await google.colab.kernel.invokeFunction('convertToInteractive',\n",
              "                                                     [key], {});\n",
              "          if (!dataTable) return;\n",
              "\n",
              "          const docLinkHtml = 'Like what you see? Visit the ' +\n",
              "            '<a target=\"_blank\" href=https://colab.research.google.com/notebooks/data_table.ipynb>data table notebook</a>'\n",
              "            + ' to learn more about interactive tables.';\n",
              "          element.innerHTML = '';\n",
              "          dataTable['output_type'] = 'display_data';\n",
              "          await google.colab.output.renderOutput(dataTable, element);\n",
              "          const docLink = document.createElement('div');\n",
              "          docLink.innerHTML = docLinkHtml;\n",
              "          element.appendChild(docLink);\n",
              "        }\n",
              "      </script>\n",
              "    </div>\n",
              "  </div>\n",
              "  "
            ],
            "text/plain": [
              "  InvoiceNo StockCode                          Description  Quantity  \\\n",
              "0    536365    85123A   WHITE HANGING HEART T-LIGHT HOLDER         6   \n",
              "1    536365     71053                  WHITE METAL LANTERN         6   \n",
              "2    536365    84406B       CREAM CUPID HEARTS COAT HANGER         8   \n",
              "3    536365    84029G  KNITTED UNION FLAG HOT WATER BOTTLE         6   \n",
              "4    536365    84029E       RED WOOLLY HOTTIE WHITE HEART.         6   \n",
              "\n",
              "    InvoiceDate  UnitPrice  CustomerID         Country  \n",
              "0  12/1/10 8:26       2.55     17850.0  United Kingdom  \n",
              "1  12/1/10 8:26       3.39     17850.0  United Kingdom  \n",
              "2  12/1/10 8:26       2.75     17850.0  United Kingdom  \n",
              "3  12/1/10 8:26       3.39     17850.0  United Kingdom  \n",
              "4  12/1/10 8:26       3.39     17850.0  United Kingdom  "
            ]
          },
          "execution_count": 28,
          "metadata": {},
          "output_type": "execute_result"
        }
      ],
      "source": [
        "df= pd.read_csv('data.csv')\n",
        "df.head(5)"
      ]
    },
    {
      "cell_type": "code",
      "execution_count": 30,
      "metadata": {
        "colab": {
          "base_uri": "https://localhost:8080/"
        },
        "id": "dDw-dwiIV99B",
        "outputId": "9c740b1c-725a-4993-c843-cd6b3aefaf8d"
      },
      "outputs": [
        {
          "name": "stdout",
          "output_type": "stream",
          "text": [
            "<class 'pandas.core.frame.DataFrame'>\n",
            "RangeIndex: 541909 entries, 0 to 541908\n",
            "Data columns (total 8 columns):\n",
            " #   Column       Non-Null Count   Dtype  \n",
            "---  ------       --------------   -----  \n",
            " 0   InvoiceNo    541909 non-null  object \n",
            " 1   StockCode    541909 non-null  object \n",
            " 2   Description  540455 non-null  object \n",
            " 3   Quantity     541909 non-null  int64  \n",
            " 4   InvoiceDate  541909 non-null  object \n",
            " 5   UnitPrice    541909 non-null  float64\n",
            " 6   CustomerID   406829 non-null  float64\n",
            " 7   Country      541909 non-null  object \n",
            "dtypes: float64(2), int64(1), object(5)\n",
            "memory usage: 33.1+ MB\n"
          ]
        }
      ],
      "source": [
        "df.info()"
      ]
    },
    {
      "cell_type": "code",
      "execution_count": 31,
      "metadata": {
        "colab": {
          "base_uri": "https://localhost:8080/"
        },
        "id": "zUglCIUXVrVW",
        "outputId": "08d6a3ae-b128-4930-d2f7-4a5febe6cd39"
      },
      "outputs": [
        {
          "data": {
            "text/plain": [
              "InvoiceNo      541909\n",
              "StockCode      541909\n",
              "Description    540455\n",
              "Quantity       541909\n",
              "InvoiceDate    541909\n",
              "UnitPrice      541909\n",
              "CustomerID     406829\n",
              "Country        541909\n",
              "dtype: int64"
            ]
          },
          "execution_count": 31,
          "metadata": {},
          "output_type": "execute_result"
        }
      ],
      "source": [
        "from time import time\n",
        "\n",
        "\n",
        "#convert str to date\n",
        "df['InvoiceDate']=pd.to_datetime(df['InvoiceDate'])\n",
        "df.count()"
      ]
    },
    {
      "cell_type": "code",
      "execution_count": 32,
      "metadata": {
        "colab": {
          "base_uri": "https://localhost:8080/"
        },
        "id": "Bg4tNLPSVrVX",
        "outputId": "f7dcaed7-5973-4230-e27a-045e344781ef"
      },
      "outputs": [
        {
          "data": {
            "text/plain": [
              "InvoiceNo           0\n",
              "StockCode           0\n",
              "Description      1454\n",
              "Quantity            0\n",
              "InvoiceDate         0\n",
              "UnitPrice           0\n",
              "CustomerID     135080\n",
              "Country             0\n",
              "dtype: int64"
            ]
          },
          "execution_count": 32,
          "metadata": {},
          "output_type": "execute_result"
        }
      ],
      "source": [
        "df.isnull().sum()"
      ]
    },
    {
      "cell_type": "code",
      "execution_count": 33,
      "metadata": {
        "id": "3plgloQFVrVX"
      },
      "outputs": [],
      "source": [
        "df=df[df['CustomerID'].notna()]"
      ]
    },
    {
      "cell_type": "code",
      "execution_count": 34,
      "metadata": {
        "colab": {
          "base_uri": "https://localhost:8080/"
        },
        "id": "qXXz3mr5VrVX",
        "outputId": "c4580dce-14a9-4352-e758-1a99c37b302f"
      },
      "outputs": [
        {
          "data": {
            "text/plain": [
              "InvoiceNo      0\n",
              "StockCode      0\n",
              "Description    0\n",
              "Quantity       0\n",
              "InvoiceDate    0\n",
              "UnitPrice      0\n",
              "CustomerID     0\n",
              "Country        0\n",
              "dtype: int64"
            ]
          },
          "execution_count": 34,
          "metadata": {},
          "output_type": "execute_result"
        }
      ],
      "source": [
        "df.isnull().sum()"
      ]
    },
    {
      "cell_type": "code",
      "execution_count": 35,
      "metadata": {
        "id": "fQht_cuFVrVY"
      },
      "outputs": [],
      "source": [
        "from datetime import datetime\n",
        "from random import triangular\n",
        "start_date=pd.Timestamp(2010,12,1)\n",
        "end_date=pd.Timestamp(2011,8,31)\n",
        "train_set=df[df['InvoiceDate']>=start_date]\n",
        "train_set=train_set[train_set['InvoiceDate']<=end_date]"
      ]
    },
    {
      "cell_type": "code",
      "execution_count": 36,
      "metadata": {
        "colab": {
          "base_uri": "https://localhost:8080/",
          "height": 206
        },
        "id": "9AV4ic5bVrVY",
        "outputId": "282a5eab-9c43-48a2-ffcf-647de1a56584"
      },
      "outputs": [
        {
          "data": {
            "text/html": [
              "\n",
              "  <div id=\"df-f9376176-1bca-4015-af64-cb9262890005\">\n",
              "    <div class=\"colab-df-container\">\n",
              "      <div>\n",
              "<style scoped>\n",
              "    .dataframe tbody tr th:only-of-type {\n",
              "        vertical-align: middle;\n",
              "    }\n",
              "\n",
              "    .dataframe tbody tr th {\n",
              "        vertical-align: top;\n",
              "    }\n",
              "\n",
              "    .dataframe thead th {\n",
              "        text-align: right;\n",
              "    }\n",
              "</style>\n",
              "<table border=\"1\" class=\"dataframe\">\n",
              "  <thead>\n",
              "    <tr style=\"text-align: right;\">\n",
              "      <th></th>\n",
              "      <th>InvoiceNo</th>\n",
              "      <th>StockCode</th>\n",
              "      <th>Description</th>\n",
              "      <th>Quantity</th>\n",
              "      <th>InvoiceDate</th>\n",
              "      <th>UnitPrice</th>\n",
              "      <th>CustomerID</th>\n",
              "      <th>Country</th>\n",
              "    </tr>\n",
              "  </thead>\n",
              "  <tbody>\n",
              "    <tr>\n",
              "      <th>0</th>\n",
              "      <td>536365</td>\n",
              "      <td>85123A</td>\n",
              "      <td>WHITE HANGING HEART T-LIGHT HOLDER</td>\n",
              "      <td>6</td>\n",
              "      <td>2010-12-01 08:26:00</td>\n",
              "      <td>2.55</td>\n",
              "      <td>17850.0</td>\n",
              "      <td>United Kingdom</td>\n",
              "    </tr>\n",
              "    <tr>\n",
              "      <th>1</th>\n",
              "      <td>536365</td>\n",
              "      <td>71053</td>\n",
              "      <td>WHITE METAL LANTERN</td>\n",
              "      <td>6</td>\n",
              "      <td>2010-12-01 08:26:00</td>\n",
              "      <td>3.39</td>\n",
              "      <td>17850.0</td>\n",
              "      <td>United Kingdom</td>\n",
              "    </tr>\n",
              "    <tr>\n",
              "      <th>2</th>\n",
              "      <td>536365</td>\n",
              "      <td>84406B</td>\n",
              "      <td>CREAM CUPID HEARTS COAT HANGER</td>\n",
              "      <td>8</td>\n",
              "      <td>2010-12-01 08:26:00</td>\n",
              "      <td>2.75</td>\n",
              "      <td>17850.0</td>\n",
              "      <td>United Kingdom</td>\n",
              "    </tr>\n",
              "    <tr>\n",
              "      <th>3</th>\n",
              "      <td>536365</td>\n",
              "      <td>84029G</td>\n",
              "      <td>KNITTED UNION FLAG HOT WATER BOTTLE</td>\n",
              "      <td>6</td>\n",
              "      <td>2010-12-01 08:26:00</td>\n",
              "      <td>3.39</td>\n",
              "      <td>17850.0</td>\n",
              "      <td>United Kingdom</td>\n",
              "    </tr>\n",
              "    <tr>\n",
              "      <th>4</th>\n",
              "      <td>536365</td>\n",
              "      <td>84029E</td>\n",
              "      <td>RED WOOLLY HOTTIE WHITE HEART.</td>\n",
              "      <td>6</td>\n",
              "      <td>2010-12-01 08:26:00</td>\n",
              "      <td>3.39</td>\n",
              "      <td>17850.0</td>\n",
              "      <td>United Kingdom</td>\n",
              "    </tr>\n",
              "  </tbody>\n",
              "</table>\n",
              "</div>\n",
              "      <button class=\"colab-df-convert\" onclick=\"convertToInteractive('df-f9376176-1bca-4015-af64-cb9262890005')\"\n",
              "              title=\"Convert this dataframe to an interactive table.\"\n",
              "              style=\"display:none;\">\n",
              "        \n",
              "  <svg xmlns=\"http://www.w3.org/2000/svg\" height=\"24px\"viewBox=\"0 0 24 24\"\n",
              "       width=\"24px\">\n",
              "    <path d=\"M0 0h24v24H0V0z\" fill=\"none\"/>\n",
              "    <path d=\"M18.56 5.44l.94 2.06.94-2.06 2.06-.94-2.06-.94-.94-2.06-.94 2.06-2.06.94zm-11 1L8.5 8.5l.94-2.06 2.06-.94-2.06-.94L8.5 2.5l-.94 2.06-2.06.94zm10 10l.94 2.06.94-2.06 2.06-.94-2.06-.94-.94-2.06-.94 2.06-2.06.94z\"/><path d=\"M17.41 7.96l-1.37-1.37c-.4-.4-.92-.59-1.43-.59-.52 0-1.04.2-1.43.59L10.3 9.45l-7.72 7.72c-.78.78-.78 2.05 0 2.83L4 21.41c.39.39.9.59 1.41.59.51 0 1.02-.2 1.41-.59l7.78-7.78 2.81-2.81c.8-.78.8-2.07 0-2.86zM5.41 20L4 18.59l7.72-7.72 1.47 1.35L5.41 20z\"/>\n",
              "  </svg>\n",
              "      </button>\n",
              "      \n",
              "  <style>\n",
              "    .colab-df-container {\n",
              "      display:flex;\n",
              "      flex-wrap:wrap;\n",
              "      gap: 12px;\n",
              "    }\n",
              "\n",
              "    .colab-df-convert {\n",
              "      background-color: #E8F0FE;\n",
              "      border: none;\n",
              "      border-radius: 50%;\n",
              "      cursor: pointer;\n",
              "      display: none;\n",
              "      fill: #1967D2;\n",
              "      height: 32px;\n",
              "      padding: 0 0 0 0;\n",
              "      width: 32px;\n",
              "    }\n",
              "\n",
              "    .colab-df-convert:hover {\n",
              "      background-color: #E2EBFA;\n",
              "      box-shadow: 0px 1px 2px rgba(60, 64, 67, 0.3), 0px 1px 3px 1px rgba(60, 64, 67, 0.15);\n",
              "      fill: #174EA6;\n",
              "    }\n",
              "\n",
              "    [theme=dark] .colab-df-convert {\n",
              "      background-color: #3B4455;\n",
              "      fill: #D2E3FC;\n",
              "    }\n",
              "\n",
              "    [theme=dark] .colab-df-convert:hover {\n",
              "      background-color: #434B5C;\n",
              "      box-shadow: 0px 1px 3px 1px rgba(0, 0, 0, 0.15);\n",
              "      filter: drop-shadow(0px 1px 2px rgba(0, 0, 0, 0.3));\n",
              "      fill: #FFFFFF;\n",
              "    }\n",
              "  </style>\n",
              "\n",
              "      <script>\n",
              "        const buttonEl =\n",
              "          document.querySelector('#df-f9376176-1bca-4015-af64-cb9262890005 button.colab-df-convert');\n",
              "        buttonEl.style.display =\n",
              "          google.colab.kernel.accessAllowed ? 'block' : 'none';\n",
              "\n",
              "        async function convertToInteractive(key) {\n",
              "          const element = document.querySelector('#df-f9376176-1bca-4015-af64-cb9262890005');\n",
              "          const dataTable =\n",
              "            await google.colab.kernel.invokeFunction('convertToInteractive',\n",
              "                                                     [key], {});\n",
              "          if (!dataTable) return;\n",
              "\n",
              "          const docLinkHtml = 'Like what you see? Visit the ' +\n",
              "            '<a target=\"_blank\" href=https://colab.research.google.com/notebooks/data_table.ipynb>data table notebook</a>'\n",
              "            + ' to learn more about interactive tables.';\n",
              "          element.innerHTML = '';\n",
              "          dataTable['output_type'] = 'display_data';\n",
              "          await google.colab.output.renderOutput(dataTable, element);\n",
              "          const docLink = document.createElement('div');\n",
              "          docLink.innerHTML = docLinkHtml;\n",
              "          element.appendChild(docLink);\n",
              "        }\n",
              "      </script>\n",
              "    </div>\n",
              "  </div>\n",
              "  "
            ],
            "text/plain": [
              "  InvoiceNo StockCode                          Description  Quantity  \\\n",
              "0    536365    85123A   WHITE HANGING HEART T-LIGHT HOLDER         6   \n",
              "1    536365     71053                  WHITE METAL LANTERN         6   \n",
              "2    536365    84406B       CREAM CUPID HEARTS COAT HANGER         8   \n",
              "3    536365    84029G  KNITTED UNION FLAG HOT WATER BOTTLE         6   \n",
              "4    536365    84029E       RED WOOLLY HOTTIE WHITE HEART.         6   \n",
              "\n",
              "          InvoiceDate  UnitPrice  CustomerID         Country  \n",
              "0 2010-12-01 08:26:00       2.55     17850.0  United Kingdom  \n",
              "1 2010-12-01 08:26:00       3.39     17850.0  United Kingdom  \n",
              "2 2010-12-01 08:26:00       2.75     17850.0  United Kingdom  \n",
              "3 2010-12-01 08:26:00       3.39     17850.0  United Kingdom  \n",
              "4 2010-12-01 08:26:00       3.39     17850.0  United Kingdom  "
            ]
          },
          "execution_count": 36,
          "metadata": {},
          "output_type": "execute_result"
        }
      ],
      "source": [
        "train_set.head()"
      ]
    },
    {
      "cell_type": "code",
      "execution_count": 37,
      "metadata": {
        "colab": {
          "base_uri": "https://localhost:8080/",
          "height": 206
        },
        "id": "XI3aC690VrVY",
        "outputId": "d5385052-6c0f-4bb8-f7f8-0e9460136910"
      },
      "outputs": [
        {
          "data": {
            "text/html": [
              "\n",
              "  <div id=\"df-be6afa91-9f84-4a07-934a-76c0f9188735\">\n",
              "    <div class=\"colab-df-container\">\n",
              "      <div>\n",
              "<style scoped>\n",
              "    .dataframe tbody tr th:only-of-type {\n",
              "        vertical-align: middle;\n",
              "    }\n",
              "\n",
              "    .dataframe tbody tr th {\n",
              "        vertical-align: top;\n",
              "    }\n",
              "\n",
              "    .dataframe thead th {\n",
              "        text-align: right;\n",
              "    }\n",
              "</style>\n",
              "<table border=\"1\" class=\"dataframe\">\n",
              "  <thead>\n",
              "    <tr style=\"text-align: right;\">\n",
              "      <th></th>\n",
              "      <th>InvoiceNo</th>\n",
              "      <th>StockCode</th>\n",
              "      <th>Description</th>\n",
              "      <th>Quantity</th>\n",
              "      <th>InvoiceDate</th>\n",
              "      <th>UnitPrice</th>\n",
              "      <th>CustomerID</th>\n",
              "      <th>Country</th>\n",
              "    </tr>\n",
              "  </thead>\n",
              "  <tbody>\n",
              "    <tr>\n",
              "      <th>320705</th>\n",
              "      <td>565080</td>\n",
              "      <td>20677</td>\n",
              "      <td>PINK POLKADOT BOWL</td>\n",
              "      <td>8</td>\n",
              "      <td>2011-09-01 08:25:00</td>\n",
              "      <td>1.25</td>\n",
              "      <td>13509.0</td>\n",
              "      <td>United Kingdom</td>\n",
              "    </tr>\n",
              "    <tr>\n",
              "      <th>320706</th>\n",
              "      <td>565080</td>\n",
              "      <td>22128</td>\n",
              "      <td>PARTY CONES CANDY ASSORTED</td>\n",
              "      <td>24</td>\n",
              "      <td>2011-09-01 08:25:00</td>\n",
              "      <td>1.25</td>\n",
              "      <td>13509.0</td>\n",
              "      <td>United Kingdom</td>\n",
              "    </tr>\n",
              "    <tr>\n",
              "      <th>320708</th>\n",
              "      <td>565082</td>\n",
              "      <td>22423</td>\n",
              "      <td>REGENCY CAKESTAND 3 TIER</td>\n",
              "      <td>2</td>\n",
              "      <td>2011-09-01 09:15:00</td>\n",
              "      <td>12.75</td>\n",
              "      <td>13305.0</td>\n",
              "      <td>United Kingdom</td>\n",
              "    </tr>\n",
              "    <tr>\n",
              "      <th>320709</th>\n",
              "      <td>565082</td>\n",
              "      <td>15060B</td>\n",
              "      <td>FAIRY CAKE DESIGN UMBRELLA</td>\n",
              "      <td>8</td>\n",
              "      <td>2011-09-01 09:15:00</td>\n",
              "      <td>3.75</td>\n",
              "      <td>13305.0</td>\n",
              "      <td>United Kingdom</td>\n",
              "    </tr>\n",
              "    <tr>\n",
              "      <th>320710</th>\n",
              "      <td>565082</td>\n",
              "      <td>23245</td>\n",
              "      <td>SET OF 3 REGENCY CAKE TINS</td>\n",
              "      <td>4</td>\n",
              "      <td>2011-09-01 09:15:00</td>\n",
              "      <td>4.95</td>\n",
              "      <td>13305.0</td>\n",
              "      <td>United Kingdom</td>\n",
              "    </tr>\n",
              "  </tbody>\n",
              "</table>\n",
              "</div>\n",
              "      <button class=\"colab-df-convert\" onclick=\"convertToInteractive('df-be6afa91-9f84-4a07-934a-76c0f9188735')\"\n",
              "              title=\"Convert this dataframe to an interactive table.\"\n",
              "              style=\"display:none;\">\n",
              "        \n",
              "  <svg xmlns=\"http://www.w3.org/2000/svg\" height=\"24px\"viewBox=\"0 0 24 24\"\n",
              "       width=\"24px\">\n",
              "    <path d=\"M0 0h24v24H0V0z\" fill=\"none\"/>\n",
              "    <path d=\"M18.56 5.44l.94 2.06.94-2.06 2.06-.94-2.06-.94-.94-2.06-.94 2.06-2.06.94zm-11 1L8.5 8.5l.94-2.06 2.06-.94-2.06-.94L8.5 2.5l-.94 2.06-2.06.94zm10 10l.94 2.06.94-2.06 2.06-.94-2.06-.94-.94-2.06-.94 2.06-2.06.94z\"/><path d=\"M17.41 7.96l-1.37-1.37c-.4-.4-.92-.59-1.43-.59-.52 0-1.04.2-1.43.59L10.3 9.45l-7.72 7.72c-.78.78-.78 2.05 0 2.83L4 21.41c.39.39.9.59 1.41.59.51 0 1.02-.2 1.41-.59l7.78-7.78 2.81-2.81c.8-.78.8-2.07 0-2.86zM5.41 20L4 18.59l7.72-7.72 1.47 1.35L5.41 20z\"/>\n",
              "  </svg>\n",
              "      </button>\n",
              "      \n",
              "  <style>\n",
              "    .colab-df-container {\n",
              "      display:flex;\n",
              "      flex-wrap:wrap;\n",
              "      gap: 12px;\n",
              "    }\n",
              "\n",
              "    .colab-df-convert {\n",
              "      background-color: #E8F0FE;\n",
              "      border: none;\n",
              "      border-radius: 50%;\n",
              "      cursor: pointer;\n",
              "      display: none;\n",
              "      fill: #1967D2;\n",
              "      height: 32px;\n",
              "      padding: 0 0 0 0;\n",
              "      width: 32px;\n",
              "    }\n",
              "\n",
              "    .colab-df-convert:hover {\n",
              "      background-color: #E2EBFA;\n",
              "      box-shadow: 0px 1px 2px rgba(60, 64, 67, 0.3), 0px 1px 3px 1px rgba(60, 64, 67, 0.15);\n",
              "      fill: #174EA6;\n",
              "    }\n",
              "\n",
              "    [theme=dark] .colab-df-convert {\n",
              "      background-color: #3B4455;\n",
              "      fill: #D2E3FC;\n",
              "    }\n",
              "\n",
              "    [theme=dark] .colab-df-convert:hover {\n",
              "      background-color: #434B5C;\n",
              "      box-shadow: 0px 1px 3px 1px rgba(0, 0, 0, 0.15);\n",
              "      filter: drop-shadow(0px 1px 2px rgba(0, 0, 0, 0.3));\n",
              "      fill: #FFFFFF;\n",
              "    }\n",
              "  </style>\n",
              "\n",
              "      <script>\n",
              "        const buttonEl =\n",
              "          document.querySelector('#df-be6afa91-9f84-4a07-934a-76c0f9188735 button.colab-df-convert');\n",
              "        buttonEl.style.display =\n",
              "          google.colab.kernel.accessAllowed ? 'block' : 'none';\n",
              "\n",
              "        async function convertToInteractive(key) {\n",
              "          const element = document.querySelector('#df-be6afa91-9f84-4a07-934a-76c0f9188735');\n",
              "          const dataTable =\n",
              "            await google.colab.kernel.invokeFunction('convertToInteractive',\n",
              "                                                     [key], {});\n",
              "          if (!dataTable) return;\n",
              "\n",
              "          const docLinkHtml = 'Like what you see? Visit the ' +\n",
              "            '<a target=\"_blank\" href=https://colab.research.google.com/notebooks/data_table.ipynb>data table notebook</a>'\n",
              "            + ' to learn more about interactive tables.';\n",
              "          element.innerHTML = '';\n",
              "          dataTable['output_type'] = 'display_data';\n",
              "          await google.colab.output.renderOutput(dataTable, element);\n",
              "          const docLink = document.createElement('div');\n",
              "          docLink.innerHTML = docLinkHtml;\n",
              "          element.appendChild(docLink);\n",
              "        }\n",
              "      </script>\n",
              "    </div>\n",
              "  </div>\n",
              "  "
            ],
            "text/plain": [
              "       InvoiceNo StockCode                 Description  Quantity  \\\n",
              "320705    565080     20677          PINK POLKADOT BOWL         8   \n",
              "320706    565080     22128  PARTY CONES CANDY ASSORTED        24   \n",
              "320708    565082     22423    REGENCY CAKESTAND 3 TIER         2   \n",
              "320709    565082    15060B  FAIRY CAKE DESIGN UMBRELLA         8   \n",
              "320710    565082     23245  SET OF 3 REGENCY CAKE TINS         4   \n",
              "\n",
              "               InvoiceDate  UnitPrice  CustomerID         Country  \n",
              "320705 2011-09-01 08:25:00       1.25     13509.0  United Kingdom  \n",
              "320706 2011-09-01 08:25:00       1.25     13509.0  United Kingdom  \n",
              "320708 2011-09-01 09:15:00      12.75     13305.0  United Kingdom  \n",
              "320709 2011-09-01 09:15:00       3.75     13305.0  United Kingdom  \n",
              "320710 2011-09-01 09:15:00       4.95     13305.0  United Kingdom  "
            ]
          },
          "execution_count": 37,
          "metadata": {},
          "output_type": "execute_result"
        }
      ],
      "source": [
        "start_date=pd.Timestamp(2011,9,1)\n",
        "end_date=pd.Timestamp(2011,12,31)\n",
        "churn_set=df[df['InvoiceDate']>=start_date]\n",
        "churn_set=churn_set[churn_set['InvoiceDate']<=end_date]\n",
        "churn_set.head()"
      ]
    },
    {
      "cell_type": "code",
      "execution_count": 38,
      "metadata": {
        "id": "8CBW2qvGVrVZ"
      },
      "outputs": [],
      "source": [
        "train_unique=train_set['CustomerID'].unique()\n",
        "churn_unique=churn_set['CustomerID'].unique()\n",
        "ischurnlis=[]\n",
        "for id in train_unique:\n",
        "    if id in churn_unique:\n",
        "        ischurnlis.append(id)"
      ]
    },
    {
      "cell_type": "code",
      "execution_count": 39,
      "metadata": {
        "id": "ycbQHHuoVrVa"
      },
      "outputs": [],
      "source": [
        "train_set=train_set.assign(isChurn=[1 if x in ischurnlis else 0 for x in train_set['CustomerID']])"
      ]
    },
    {
      "cell_type": "code",
      "execution_count": 40,
      "metadata": {
        "colab": {
          "base_uri": "https://localhost:8080/",
          "height": 206
        },
        "id": "w_AK-hSEVrVa",
        "outputId": "ef60e68a-ce58-461e-b16f-3e10d91ebc81"
      },
      "outputs": [
        {
          "data": {
            "text/html": [
              "\n",
              "  <div id=\"df-f544a193-dd22-4e3d-9eec-2d99c02738d8\">\n",
              "    <div class=\"colab-df-container\">\n",
              "      <div>\n",
              "<style scoped>\n",
              "    .dataframe tbody tr th:only-of-type {\n",
              "        vertical-align: middle;\n",
              "    }\n",
              "\n",
              "    .dataframe tbody tr th {\n",
              "        vertical-align: top;\n",
              "    }\n",
              "\n",
              "    .dataframe thead th {\n",
              "        text-align: right;\n",
              "    }\n",
              "</style>\n",
              "<table border=\"1\" class=\"dataframe\">\n",
              "  <thead>\n",
              "    <tr style=\"text-align: right;\">\n",
              "      <th></th>\n",
              "      <th>InvoiceNo</th>\n",
              "      <th>StockCode</th>\n",
              "      <th>Description</th>\n",
              "      <th>Quantity</th>\n",
              "      <th>InvoiceDate</th>\n",
              "      <th>UnitPrice</th>\n",
              "      <th>CustomerID</th>\n",
              "      <th>Country</th>\n",
              "      <th>isChurn</th>\n",
              "    </tr>\n",
              "  </thead>\n",
              "  <tbody>\n",
              "    <tr>\n",
              "      <th>0</th>\n",
              "      <td>536365</td>\n",
              "      <td>85123A</td>\n",
              "      <td>WHITE HANGING HEART T-LIGHT HOLDER</td>\n",
              "      <td>6</td>\n",
              "      <td>2010-12-01 08:26:00</td>\n",
              "      <td>2.55</td>\n",
              "      <td>17850.0</td>\n",
              "      <td>United Kingdom</td>\n",
              "      <td>0</td>\n",
              "    </tr>\n",
              "    <tr>\n",
              "      <th>1</th>\n",
              "      <td>536365</td>\n",
              "      <td>71053</td>\n",
              "      <td>WHITE METAL LANTERN</td>\n",
              "      <td>6</td>\n",
              "      <td>2010-12-01 08:26:00</td>\n",
              "      <td>3.39</td>\n",
              "      <td>17850.0</td>\n",
              "      <td>United Kingdom</td>\n",
              "      <td>0</td>\n",
              "    </tr>\n",
              "    <tr>\n",
              "      <th>2</th>\n",
              "      <td>536365</td>\n",
              "      <td>84406B</td>\n",
              "      <td>CREAM CUPID HEARTS COAT HANGER</td>\n",
              "      <td>8</td>\n",
              "      <td>2010-12-01 08:26:00</td>\n",
              "      <td>2.75</td>\n",
              "      <td>17850.0</td>\n",
              "      <td>United Kingdom</td>\n",
              "      <td>0</td>\n",
              "    </tr>\n",
              "    <tr>\n",
              "      <th>3</th>\n",
              "      <td>536365</td>\n",
              "      <td>84029G</td>\n",
              "      <td>KNITTED UNION FLAG HOT WATER BOTTLE</td>\n",
              "      <td>6</td>\n",
              "      <td>2010-12-01 08:26:00</td>\n",
              "      <td>3.39</td>\n",
              "      <td>17850.0</td>\n",
              "      <td>United Kingdom</td>\n",
              "      <td>0</td>\n",
              "    </tr>\n",
              "    <tr>\n",
              "      <th>4</th>\n",
              "      <td>536365</td>\n",
              "      <td>84029E</td>\n",
              "      <td>RED WOOLLY HOTTIE WHITE HEART.</td>\n",
              "      <td>6</td>\n",
              "      <td>2010-12-01 08:26:00</td>\n",
              "      <td>3.39</td>\n",
              "      <td>17850.0</td>\n",
              "      <td>United Kingdom</td>\n",
              "      <td>0</td>\n",
              "    </tr>\n",
              "  </tbody>\n",
              "</table>\n",
              "</div>\n",
              "      <button class=\"colab-df-convert\" onclick=\"convertToInteractive('df-f544a193-dd22-4e3d-9eec-2d99c02738d8')\"\n",
              "              title=\"Convert this dataframe to an interactive table.\"\n",
              "              style=\"display:none;\">\n",
              "        \n",
              "  <svg xmlns=\"http://www.w3.org/2000/svg\" height=\"24px\"viewBox=\"0 0 24 24\"\n",
              "       width=\"24px\">\n",
              "    <path d=\"M0 0h24v24H0V0z\" fill=\"none\"/>\n",
              "    <path d=\"M18.56 5.44l.94 2.06.94-2.06 2.06-.94-2.06-.94-.94-2.06-.94 2.06-2.06.94zm-11 1L8.5 8.5l.94-2.06 2.06-.94-2.06-.94L8.5 2.5l-.94 2.06-2.06.94zm10 10l.94 2.06.94-2.06 2.06-.94-2.06-.94-.94-2.06-.94 2.06-2.06.94z\"/><path d=\"M17.41 7.96l-1.37-1.37c-.4-.4-.92-.59-1.43-.59-.52 0-1.04.2-1.43.59L10.3 9.45l-7.72 7.72c-.78.78-.78 2.05 0 2.83L4 21.41c.39.39.9.59 1.41.59.51 0 1.02-.2 1.41-.59l7.78-7.78 2.81-2.81c.8-.78.8-2.07 0-2.86zM5.41 20L4 18.59l7.72-7.72 1.47 1.35L5.41 20z\"/>\n",
              "  </svg>\n",
              "      </button>\n",
              "      \n",
              "  <style>\n",
              "    .colab-df-container {\n",
              "      display:flex;\n",
              "      flex-wrap:wrap;\n",
              "      gap: 12px;\n",
              "    }\n",
              "\n",
              "    .colab-df-convert {\n",
              "      background-color: #E8F0FE;\n",
              "      border: none;\n",
              "      border-radius: 50%;\n",
              "      cursor: pointer;\n",
              "      display: none;\n",
              "      fill: #1967D2;\n",
              "      height: 32px;\n",
              "      padding: 0 0 0 0;\n",
              "      width: 32px;\n",
              "    }\n",
              "\n",
              "    .colab-df-convert:hover {\n",
              "      background-color: #E2EBFA;\n",
              "      box-shadow: 0px 1px 2px rgba(60, 64, 67, 0.3), 0px 1px 3px 1px rgba(60, 64, 67, 0.15);\n",
              "      fill: #174EA6;\n",
              "    }\n",
              "\n",
              "    [theme=dark] .colab-df-convert {\n",
              "      background-color: #3B4455;\n",
              "      fill: #D2E3FC;\n",
              "    }\n",
              "\n",
              "    [theme=dark] .colab-df-convert:hover {\n",
              "      background-color: #434B5C;\n",
              "      box-shadow: 0px 1px 3px 1px rgba(0, 0, 0, 0.15);\n",
              "      filter: drop-shadow(0px 1px 2px rgba(0, 0, 0, 0.3));\n",
              "      fill: #FFFFFF;\n",
              "    }\n",
              "  </style>\n",
              "\n",
              "      <script>\n",
              "        const buttonEl =\n",
              "          document.querySelector('#df-f544a193-dd22-4e3d-9eec-2d99c02738d8 button.colab-df-convert');\n",
              "        buttonEl.style.display =\n",
              "          google.colab.kernel.accessAllowed ? 'block' : 'none';\n",
              "\n",
              "        async function convertToInteractive(key) {\n",
              "          const element = document.querySelector('#df-f544a193-dd22-4e3d-9eec-2d99c02738d8');\n",
              "          const dataTable =\n",
              "            await google.colab.kernel.invokeFunction('convertToInteractive',\n",
              "                                                     [key], {});\n",
              "          if (!dataTable) return;\n",
              "\n",
              "          const docLinkHtml = 'Like what you see? Visit the ' +\n",
              "            '<a target=\"_blank\" href=https://colab.research.google.com/notebooks/data_table.ipynb>data table notebook</a>'\n",
              "            + ' to learn more about interactive tables.';\n",
              "          element.innerHTML = '';\n",
              "          dataTable['output_type'] = 'display_data';\n",
              "          await google.colab.output.renderOutput(dataTable, element);\n",
              "          const docLink = document.createElement('div');\n",
              "          docLink.innerHTML = docLinkHtml;\n",
              "          element.appendChild(docLink);\n",
              "        }\n",
              "      </script>\n",
              "    </div>\n",
              "  </div>\n",
              "  "
            ],
            "text/plain": [
              "  InvoiceNo StockCode                          Description  Quantity  \\\n",
              "0    536365    85123A   WHITE HANGING HEART T-LIGHT HOLDER         6   \n",
              "1    536365     71053                  WHITE METAL LANTERN         6   \n",
              "2    536365    84406B       CREAM CUPID HEARTS COAT HANGER         8   \n",
              "3    536365    84029G  KNITTED UNION FLAG HOT WATER BOTTLE         6   \n",
              "4    536365    84029E       RED WOOLLY HOTTIE WHITE HEART.         6   \n",
              "\n",
              "          InvoiceDate  UnitPrice  CustomerID         Country  isChurn  \n",
              "0 2010-12-01 08:26:00       2.55     17850.0  United Kingdom        0  \n",
              "1 2010-12-01 08:26:00       3.39     17850.0  United Kingdom        0  \n",
              "2 2010-12-01 08:26:00       2.75     17850.0  United Kingdom        0  \n",
              "3 2010-12-01 08:26:00       3.39     17850.0  United Kingdom        0  \n",
              "4 2010-12-01 08:26:00       3.39     17850.0  United Kingdom        0  "
            ]
          },
          "execution_count": 40,
          "metadata": {},
          "output_type": "execute_result"
        }
      ],
      "source": [
        "train_set.head()"
      ]
    },
    {
      "cell_type": "code",
      "execution_count": 41,
      "metadata": {
        "colab": {
          "base_uri": "https://localhost:8080/"
        },
        "id": "63iHoZWsVrVa",
        "outputId": "cdccf5c6-02b4-4fa6-95f8-75629840b50e"
      },
      "outputs": [
        {
          "data": {
            "text/plain": [
              "InvoiceNo      231183\n",
              "StockCode      231183\n",
              "Description    231183\n",
              "Quantity       231183\n",
              "InvoiceDate    231183\n",
              "UnitPrice      231183\n",
              "CustomerID     231183\n",
              "Country        231183\n",
              "isChurn        231183\n",
              "dtype: int64"
            ]
          },
          "execution_count": 41,
          "metadata": {},
          "output_type": "execute_result"
        }
      ],
      "source": [
        "train_set.count()"
      ]
    },
    {
      "cell_type": "code",
      "execution_count": 42,
      "metadata": {
        "colab": {
          "base_uri": "https://localhost:8080/"
        },
        "id": "JIUzgGJ9VrVb",
        "outputId": "37c2f533-439a-4943-cc4e-b158760c647c"
      },
      "outputs": [
        {
          "data": {
            "text/plain": [
              "{'United Kingdom': 0,\n",
              " 'France': 1,\n",
              " 'Australia': 2,\n",
              " 'Netherlands': 3,\n",
              " 'Germany': 4,\n",
              " 'Norway': 5,\n",
              " 'EIRE': 6,\n",
              " 'Switzerland': 7,\n",
              " 'Spain': 8,\n",
              " 'Poland': 9,\n",
              " 'Portugal': 10,\n",
              " 'Italy': 11,\n",
              " 'Belgium': 12,\n",
              " 'Lithuania': 13,\n",
              " 'Japan': 14,\n",
              " 'Iceland': 15,\n",
              " 'Channel Islands': 16,\n",
              " 'Denmark': 17,\n",
              " 'Cyprus': 18,\n",
              " 'Sweden': 19,\n",
              " 'Austria': 20,\n",
              " 'Israel': 21,\n",
              " 'Finland': 22,\n",
              " 'Greece': 23,\n",
              " 'Singapore': 24,\n",
              " 'Lebanon': 25,\n",
              " 'United Arab Emirates': 26,\n",
              " 'Saudi Arabia': 27,\n",
              " 'Czech Republic': 28,\n",
              " 'Canada': 29,\n",
              " 'Unspecified': 30,\n",
              " 'Brazil': 31,\n",
              " 'USA': 32,\n",
              " 'European Community': 33,\n",
              " 'Bahrain': 34,\n",
              " 'Malta': 35}"
            ]
          },
          "execution_count": 42,
          "metadata": {},
          "output_type": "execute_result"
        }
      ],
      "source": [
        "#taking care of country\n",
        "countries_dic={}\n",
        "countries=train_set['Country'].unique()\n",
        "for i,y in enumerate(countries):\n",
        "    countries_dic[y]=i\n",
        "countries_dic"
      ]
    },
    {
      "cell_type": "code",
      "execution_count": 43,
      "metadata": {
        "id": "4yW36NM8VrVb"
      },
      "outputs": [],
      "source": [
        "train_set['Country']=[countries_dic[x] for x in train_set['Country']]"
      ]
    },
    {
      "cell_type": "code",
      "execution_count": 44,
      "metadata": {
        "colab": {
          "base_uri": "https://localhost:8080/"
        },
        "id": "doQIBLQfVrVb",
        "outputId": "13f81a09-7e8e-4767-d3fd-f0d699079263"
      },
      "outputs": [
        {
          "data": {
            "text/plain": [
              "array([ 0,  1,  2,  3,  4,  5,  6,  7,  8,  9, 10, 11, 12, 13, 14, 15, 16,\n",
              "       17, 18, 19, 20, 21, 22, 23, 24, 25, 26, 27, 28, 29, 30, 31, 32, 33,\n",
              "       34, 35])"
            ]
          },
          "execution_count": 44,
          "metadata": {},
          "output_type": "execute_result"
        }
      ],
      "source": [
        "train_set['Country'].unique()\n",
        "#we assign country codes instead of country names"
      ]
    },
    {
      "cell_type": "code",
      "execution_count": 45,
      "metadata": {
        "colab": {
          "base_uri": "https://localhost:8080/",
          "height": 206
        },
        "id": "oNEs1rG6VrVc",
        "outputId": "c66e1c66-23bb-44ce-a97b-38ee2055fa68"
      },
      "outputs": [
        {
          "data": {
            "text/html": [
              "\n",
              "  <div id=\"df-7dd5f666-5728-46f4-bceb-4dea98523f82\">\n",
              "    <div class=\"colab-df-container\">\n",
              "      <div>\n",
              "<style scoped>\n",
              "    .dataframe tbody tr th:only-of-type {\n",
              "        vertical-align: middle;\n",
              "    }\n",
              "\n",
              "    .dataframe tbody tr th {\n",
              "        vertical-align: top;\n",
              "    }\n",
              "\n",
              "    .dataframe thead th {\n",
              "        text-align: right;\n",
              "    }\n",
              "</style>\n",
              "<table border=\"1\" class=\"dataframe\">\n",
              "  <thead>\n",
              "    <tr style=\"text-align: right;\">\n",
              "      <th></th>\n",
              "      <th>InvoiceNo</th>\n",
              "      <th>StockCode</th>\n",
              "      <th>Description</th>\n",
              "      <th>Quantity</th>\n",
              "      <th>InvoiceDate</th>\n",
              "      <th>UnitPrice</th>\n",
              "      <th>CustomerID</th>\n",
              "      <th>Country</th>\n",
              "      <th>isChurn</th>\n",
              "    </tr>\n",
              "  </thead>\n",
              "  <tbody>\n",
              "    <tr>\n",
              "      <th>0</th>\n",
              "      <td>536365</td>\n",
              "      <td>85123A</td>\n",
              "      <td>WHITE HANGING HEART T-LIGHT HOLDER</td>\n",
              "      <td>6</td>\n",
              "      <td>2010-12-01 08:26:00</td>\n",
              "      <td>2.55</td>\n",
              "      <td>17850.0</td>\n",
              "      <td>0</td>\n",
              "      <td>0</td>\n",
              "    </tr>\n",
              "    <tr>\n",
              "      <th>1</th>\n",
              "      <td>536365</td>\n",
              "      <td>71053</td>\n",
              "      <td>WHITE METAL LANTERN</td>\n",
              "      <td>6</td>\n",
              "      <td>2010-12-01 08:26:00</td>\n",
              "      <td>3.39</td>\n",
              "      <td>17850.0</td>\n",
              "      <td>0</td>\n",
              "      <td>0</td>\n",
              "    </tr>\n",
              "    <tr>\n",
              "      <th>2</th>\n",
              "      <td>536365</td>\n",
              "      <td>84406B</td>\n",
              "      <td>CREAM CUPID HEARTS COAT HANGER</td>\n",
              "      <td>8</td>\n",
              "      <td>2010-12-01 08:26:00</td>\n",
              "      <td>2.75</td>\n",
              "      <td>17850.0</td>\n",
              "      <td>0</td>\n",
              "      <td>0</td>\n",
              "    </tr>\n",
              "    <tr>\n",
              "      <th>3</th>\n",
              "      <td>536365</td>\n",
              "      <td>84029G</td>\n",
              "      <td>KNITTED UNION FLAG HOT WATER BOTTLE</td>\n",
              "      <td>6</td>\n",
              "      <td>2010-12-01 08:26:00</td>\n",
              "      <td>3.39</td>\n",
              "      <td>17850.0</td>\n",
              "      <td>0</td>\n",
              "      <td>0</td>\n",
              "    </tr>\n",
              "    <tr>\n",
              "      <th>4</th>\n",
              "      <td>536365</td>\n",
              "      <td>84029E</td>\n",
              "      <td>RED WOOLLY HOTTIE WHITE HEART.</td>\n",
              "      <td>6</td>\n",
              "      <td>2010-12-01 08:26:00</td>\n",
              "      <td>3.39</td>\n",
              "      <td>17850.0</td>\n",
              "      <td>0</td>\n",
              "      <td>0</td>\n",
              "    </tr>\n",
              "  </tbody>\n",
              "</table>\n",
              "</div>\n",
              "      <button class=\"colab-df-convert\" onclick=\"convertToInteractive('df-7dd5f666-5728-46f4-bceb-4dea98523f82')\"\n",
              "              title=\"Convert this dataframe to an interactive table.\"\n",
              "              style=\"display:none;\">\n",
              "        \n",
              "  <svg xmlns=\"http://www.w3.org/2000/svg\" height=\"24px\"viewBox=\"0 0 24 24\"\n",
              "       width=\"24px\">\n",
              "    <path d=\"M0 0h24v24H0V0z\" fill=\"none\"/>\n",
              "    <path d=\"M18.56 5.44l.94 2.06.94-2.06 2.06-.94-2.06-.94-.94-2.06-.94 2.06-2.06.94zm-11 1L8.5 8.5l.94-2.06 2.06-.94-2.06-.94L8.5 2.5l-.94 2.06-2.06.94zm10 10l.94 2.06.94-2.06 2.06-.94-2.06-.94-.94-2.06-.94 2.06-2.06.94z\"/><path d=\"M17.41 7.96l-1.37-1.37c-.4-.4-.92-.59-1.43-.59-.52 0-1.04.2-1.43.59L10.3 9.45l-7.72 7.72c-.78.78-.78 2.05 0 2.83L4 21.41c.39.39.9.59 1.41.59.51 0 1.02-.2 1.41-.59l7.78-7.78 2.81-2.81c.8-.78.8-2.07 0-2.86zM5.41 20L4 18.59l7.72-7.72 1.47 1.35L5.41 20z\"/>\n",
              "  </svg>\n",
              "      </button>\n",
              "      \n",
              "  <style>\n",
              "    .colab-df-container {\n",
              "      display:flex;\n",
              "      flex-wrap:wrap;\n",
              "      gap: 12px;\n",
              "    }\n",
              "\n",
              "    .colab-df-convert {\n",
              "      background-color: #E8F0FE;\n",
              "      border: none;\n",
              "      border-radius: 50%;\n",
              "      cursor: pointer;\n",
              "      display: none;\n",
              "      fill: #1967D2;\n",
              "      height: 32px;\n",
              "      padding: 0 0 0 0;\n",
              "      width: 32px;\n",
              "    }\n",
              "\n",
              "    .colab-df-convert:hover {\n",
              "      background-color: #E2EBFA;\n",
              "      box-shadow: 0px 1px 2px rgba(60, 64, 67, 0.3), 0px 1px 3px 1px rgba(60, 64, 67, 0.15);\n",
              "      fill: #174EA6;\n",
              "    }\n",
              "\n",
              "    [theme=dark] .colab-df-convert {\n",
              "      background-color: #3B4455;\n",
              "      fill: #D2E3FC;\n",
              "    }\n",
              "\n",
              "    [theme=dark] .colab-df-convert:hover {\n",
              "      background-color: #434B5C;\n",
              "      box-shadow: 0px 1px 3px 1px rgba(0, 0, 0, 0.15);\n",
              "      filter: drop-shadow(0px 1px 2px rgba(0, 0, 0, 0.3));\n",
              "      fill: #FFFFFF;\n",
              "    }\n",
              "  </style>\n",
              "\n",
              "      <script>\n",
              "        const buttonEl =\n",
              "          document.querySelector('#df-7dd5f666-5728-46f4-bceb-4dea98523f82 button.colab-df-convert');\n",
              "        buttonEl.style.display =\n",
              "          google.colab.kernel.accessAllowed ? 'block' : 'none';\n",
              "\n",
              "        async function convertToInteractive(key) {\n",
              "          const element = document.querySelector('#df-7dd5f666-5728-46f4-bceb-4dea98523f82');\n",
              "          const dataTable =\n",
              "            await google.colab.kernel.invokeFunction('convertToInteractive',\n",
              "                                                     [key], {});\n",
              "          if (!dataTable) return;\n",
              "\n",
              "          const docLinkHtml = 'Like what you see? Visit the ' +\n",
              "            '<a target=\"_blank\" href=https://colab.research.google.com/notebooks/data_table.ipynb>data table notebook</a>'\n",
              "            + ' to learn more about interactive tables.';\n",
              "          element.innerHTML = '';\n",
              "          dataTable['output_type'] = 'display_data';\n",
              "          await google.colab.output.renderOutput(dataTable, element);\n",
              "          const docLink = document.createElement('div');\n",
              "          docLink.innerHTML = docLinkHtml;\n",
              "          element.appendChild(docLink);\n",
              "        }\n",
              "      </script>\n",
              "    </div>\n",
              "  </div>\n",
              "  "
            ],
            "text/plain": [
              "  InvoiceNo StockCode                          Description  Quantity  \\\n",
              "0    536365    85123A   WHITE HANGING HEART T-LIGHT HOLDER         6   \n",
              "1    536365     71053                  WHITE METAL LANTERN         6   \n",
              "2    536365    84406B       CREAM CUPID HEARTS COAT HANGER         8   \n",
              "3    536365    84029G  KNITTED UNION FLAG HOT WATER BOTTLE         6   \n",
              "4    536365    84029E       RED WOOLLY HOTTIE WHITE HEART.         6   \n",
              "\n",
              "          InvoiceDate  UnitPrice  CustomerID  Country  isChurn  \n",
              "0 2010-12-01 08:26:00       2.55     17850.0        0        0  \n",
              "1 2010-12-01 08:26:00       3.39     17850.0        0        0  \n",
              "2 2010-12-01 08:26:00       2.75     17850.0        0        0  \n",
              "3 2010-12-01 08:26:00       3.39     17850.0        0        0  \n",
              "4 2010-12-01 08:26:00       3.39     17850.0        0        0  "
            ]
          },
          "execution_count": 45,
          "metadata": {},
          "output_type": "execute_result"
        }
      ],
      "source": [
        "\n",
        "train_set.head()"
      ]
    },
    {
      "cell_type": "code",
      "execution_count": 46,
      "metadata": {
        "colab": {
          "base_uri": "https://localhost:8080/"
        },
        "id": "azvEkNf9VrVc",
        "outputId": "495968db-1019-470d-ff37-7cf60de01cf5"
      },
      "outputs": [
        {
          "data": {
            "text/plain": [
              "InvoiceNo      231183\n",
              "StockCode      231183\n",
              "Description    231183\n",
              "Quantity       231183\n",
              "InvoiceDate    231183\n",
              "UnitPrice      231183\n",
              "CustomerID     231183\n",
              "Country        231183\n",
              "isChurn        231183\n",
              "dtype: int64"
            ]
          },
          "execution_count": 46,
          "metadata": {},
          "output_type": "execute_result"
        }
      ],
      "source": [
        "train_set.count()"
      ]
    },
    {
      "cell_type": "code",
      "execution_count": 47,
      "metadata": {
        "colab": {
          "base_uri": "https://localhost:8080/"
        },
        "id": "dYWBKOqgVrVc",
        "outputId": "eba456b4-3703-44da-834b-019b6ee7c31d"
      },
      "outputs": [
        {
          "data": {
            "text/plain": [
              "Index(['InvoiceNo', 'StockCode', 'Description', 'Quantity', 'InvoiceDate',\n",
              "       'UnitPrice', 'CustomerID', 'Country', 'isChurn'],\n",
              "      dtype='object')"
            ]
          },
          "execution_count": 47,
          "metadata": {},
          "output_type": "execute_result"
        }
      ],
      "source": [
        "train_set.columns"
      ]
    },
    {
      "cell_type": "code",
      "execution_count": 48,
      "metadata": {
        "colab": {
          "base_uri": "https://localhost:8080/"
        },
        "id": "LBmFUkzeVrVc",
        "outputId": "7bc4c84d-8884-46d9-bf80-72c7c53a6a75"
      },
      "outputs": [
        {
          "data": {
            "text/plain": [
              "3412"
            ]
          },
          "execution_count": 48,
          "metadata": {},
          "output_type": "execute_result"
        }
      ],
      "source": [
        "len(train_set['StockCode'].unique())"
      ]
    },
    {
      "cell_type": "code",
      "execution_count": 49,
      "metadata": {
        "id": "vow8HsLDVrVd"
      },
      "outputs": [],
      "source": [
        "train_set=train_set.drop(['Description'],axis=1)"
      ]
    },
    {
      "cell_type": "code",
      "execution_count": 50,
      "metadata": {
        "colab": {
          "base_uri": "https://localhost:8080/"
        },
        "id": "iILQJt67VrVd",
        "outputId": "c8e5b3bc-d60d-4940-dd26-9c9188a25d41"
      },
      "outputs": [
        {
          "name": "stderr",
          "output_type": "stream",
          "text": [
            "/usr/local/lib/python3.7/dist-packages/ipykernel_launcher.py:4: FutureWarning: The default value of regex will change from True to False in a future version.\n",
            "  after removing the cwd from sys.path.\n"
          ]
        }
      ],
      "source": [
        "#stock code has some letters\n",
        "#lets remove them and use it as a feature\n",
        "\n",
        "train_set['StockCode']=train_set['StockCode'].str.replace('\\D', '')\n",
        "\n",
        "    "
      ]
    },
    {
      "cell_type": "code",
      "execution_count": 51,
      "metadata": {
        "id": "-Ss_m35EVrVd"
      },
      "outputs": [],
      "source": [
        "train_set=train_set[train_set['StockCode']!='']"
      ]
    },
    {
      "cell_type": "code",
      "execution_count": 52,
      "metadata": {
        "id": "vsUt28P8VrVd"
      },
      "outputs": [],
      "source": [
        "train_set['StockCode']=train_set['StockCode'].astype(int)"
      ]
    },
    {
      "cell_type": "code",
      "execution_count": 53,
      "metadata": {
        "colab": {
          "base_uri": "https://localhost:8080/",
          "height": 424
        },
        "id": "JP3ZNDBXVrVe",
        "outputId": "5f4f7e20-ca7a-430e-ee5a-4d0381891988"
      },
      "outputs": [
        {
          "data": {
            "text/html": [
              "\n",
              "  <div id=\"df-16b5038f-fbe7-4559-9bd1-eb4eb35b535f\">\n",
              "    <div class=\"colab-df-container\">\n",
              "      <div>\n",
              "<style scoped>\n",
              "    .dataframe tbody tr th:only-of-type {\n",
              "        vertical-align: middle;\n",
              "    }\n",
              "\n",
              "    .dataframe tbody tr th {\n",
              "        vertical-align: top;\n",
              "    }\n",
              "\n",
              "    .dataframe thead th {\n",
              "        text-align: right;\n",
              "    }\n",
              "</style>\n",
              "<table border=\"1\" class=\"dataframe\">\n",
              "  <thead>\n",
              "    <tr style=\"text-align: right;\">\n",
              "      <th></th>\n",
              "      <th>InvoiceNo</th>\n",
              "      <th>StockCode</th>\n",
              "      <th>Quantity</th>\n",
              "      <th>InvoiceDate</th>\n",
              "      <th>UnitPrice</th>\n",
              "      <th>CustomerID</th>\n",
              "      <th>Country</th>\n",
              "      <th>isChurn</th>\n",
              "    </tr>\n",
              "  </thead>\n",
              "  <tbody>\n",
              "    <tr>\n",
              "      <th>0</th>\n",
              "      <td>536365</td>\n",
              "      <td>85123</td>\n",
              "      <td>6</td>\n",
              "      <td>2010-12-01 08:26:00</td>\n",
              "      <td>2.55</td>\n",
              "      <td>17850.0</td>\n",
              "      <td>0</td>\n",
              "      <td>0</td>\n",
              "    </tr>\n",
              "    <tr>\n",
              "      <th>1</th>\n",
              "      <td>536365</td>\n",
              "      <td>71053</td>\n",
              "      <td>6</td>\n",
              "      <td>2010-12-01 08:26:00</td>\n",
              "      <td>3.39</td>\n",
              "      <td>17850.0</td>\n",
              "      <td>0</td>\n",
              "      <td>0</td>\n",
              "    </tr>\n",
              "    <tr>\n",
              "      <th>2</th>\n",
              "      <td>536365</td>\n",
              "      <td>84406</td>\n",
              "      <td>8</td>\n",
              "      <td>2010-12-01 08:26:00</td>\n",
              "      <td>2.75</td>\n",
              "      <td>17850.0</td>\n",
              "      <td>0</td>\n",
              "      <td>0</td>\n",
              "    </tr>\n",
              "    <tr>\n",
              "      <th>3</th>\n",
              "      <td>536365</td>\n",
              "      <td>84029</td>\n",
              "      <td>6</td>\n",
              "      <td>2010-12-01 08:26:00</td>\n",
              "      <td>3.39</td>\n",
              "      <td>17850.0</td>\n",
              "      <td>0</td>\n",
              "      <td>0</td>\n",
              "    </tr>\n",
              "    <tr>\n",
              "      <th>4</th>\n",
              "      <td>536365</td>\n",
              "      <td>84029</td>\n",
              "      <td>6</td>\n",
              "      <td>2010-12-01 08:26:00</td>\n",
              "      <td>3.39</td>\n",
              "      <td>17850.0</td>\n",
              "      <td>0</td>\n",
              "      <td>0</td>\n",
              "    </tr>\n",
              "    <tr>\n",
              "      <th>...</th>\n",
              "      <td>...</td>\n",
              "      <td>...</td>\n",
              "      <td>...</td>\n",
              "      <td>...</td>\n",
              "      <td>...</td>\n",
              "      <td>...</td>\n",
              "      <td>...</td>\n",
              "      <td>...</td>\n",
              "    </tr>\n",
              "    <tr>\n",
              "      <th>319395</th>\n",
              "      <td>564852</td>\n",
              "      <td>82552</td>\n",
              "      <td>10</td>\n",
              "      <td>2011-08-30 17:23:00</td>\n",
              "      <td>1.45</td>\n",
              "      <td>14976.0</td>\n",
              "      <td>0</td>\n",
              "      <td>1</td>\n",
              "    </tr>\n",
              "    <tr>\n",
              "      <th>319396</th>\n",
              "      <td>564852</td>\n",
              "      <td>21756</td>\n",
              "      <td>3</td>\n",
              "      <td>2011-08-30 17:23:00</td>\n",
              "      <td>5.95</td>\n",
              "      <td>14976.0</td>\n",
              "      <td>0</td>\n",
              "      <td>1</td>\n",
              "    </tr>\n",
              "    <tr>\n",
              "      <th>319397</th>\n",
              "      <td>564852</td>\n",
              "      <td>21908</td>\n",
              "      <td>7</td>\n",
              "      <td>2011-08-30 17:23:00</td>\n",
              "      <td>2.10</td>\n",
              "      <td>14976.0</td>\n",
              "      <td>0</td>\n",
              "      <td>1</td>\n",
              "    </tr>\n",
              "    <tr>\n",
              "      <th>319398</th>\n",
              "      <td>564852</td>\n",
              "      <td>22116</td>\n",
              "      <td>10</td>\n",
              "      <td>2011-08-30 17:23:00</td>\n",
              "      <td>0.79</td>\n",
              "      <td>14976.0</td>\n",
              "      <td>0</td>\n",
              "      <td>1</td>\n",
              "    </tr>\n",
              "    <tr>\n",
              "      <th>319399</th>\n",
              "      <td>564852</td>\n",
              "      <td>23091</td>\n",
              "      <td>2</td>\n",
              "      <td>2011-08-30 17:23:00</td>\n",
              "      <td>6.25</td>\n",
              "      <td>14976.0</td>\n",
              "      <td>0</td>\n",
              "      <td>1</td>\n",
              "    </tr>\n",
              "  </tbody>\n",
              "</table>\n",
              "<p>230128 rows × 8 columns</p>\n",
              "</div>\n",
              "      <button class=\"colab-df-convert\" onclick=\"convertToInteractive('df-16b5038f-fbe7-4559-9bd1-eb4eb35b535f')\"\n",
              "              title=\"Convert this dataframe to an interactive table.\"\n",
              "              style=\"display:none;\">\n",
              "        \n",
              "  <svg xmlns=\"http://www.w3.org/2000/svg\" height=\"24px\"viewBox=\"0 0 24 24\"\n",
              "       width=\"24px\">\n",
              "    <path d=\"M0 0h24v24H0V0z\" fill=\"none\"/>\n",
              "    <path d=\"M18.56 5.44l.94 2.06.94-2.06 2.06-.94-2.06-.94-.94-2.06-.94 2.06-2.06.94zm-11 1L8.5 8.5l.94-2.06 2.06-.94-2.06-.94L8.5 2.5l-.94 2.06-2.06.94zm10 10l.94 2.06.94-2.06 2.06-.94-2.06-.94-.94-2.06-.94 2.06-2.06.94z\"/><path d=\"M17.41 7.96l-1.37-1.37c-.4-.4-.92-.59-1.43-.59-.52 0-1.04.2-1.43.59L10.3 9.45l-7.72 7.72c-.78.78-.78 2.05 0 2.83L4 21.41c.39.39.9.59 1.41.59.51 0 1.02-.2 1.41-.59l7.78-7.78 2.81-2.81c.8-.78.8-2.07 0-2.86zM5.41 20L4 18.59l7.72-7.72 1.47 1.35L5.41 20z\"/>\n",
              "  </svg>\n",
              "      </button>\n",
              "      \n",
              "  <style>\n",
              "    .colab-df-container {\n",
              "      display:flex;\n",
              "      flex-wrap:wrap;\n",
              "      gap: 12px;\n",
              "    }\n",
              "\n",
              "    .colab-df-convert {\n",
              "      background-color: #E8F0FE;\n",
              "      border: none;\n",
              "      border-radius: 50%;\n",
              "      cursor: pointer;\n",
              "      display: none;\n",
              "      fill: #1967D2;\n",
              "      height: 32px;\n",
              "      padding: 0 0 0 0;\n",
              "      width: 32px;\n",
              "    }\n",
              "\n",
              "    .colab-df-convert:hover {\n",
              "      background-color: #E2EBFA;\n",
              "      box-shadow: 0px 1px 2px rgba(60, 64, 67, 0.3), 0px 1px 3px 1px rgba(60, 64, 67, 0.15);\n",
              "      fill: #174EA6;\n",
              "    }\n",
              "\n",
              "    [theme=dark] .colab-df-convert {\n",
              "      background-color: #3B4455;\n",
              "      fill: #D2E3FC;\n",
              "    }\n",
              "\n",
              "    [theme=dark] .colab-df-convert:hover {\n",
              "      background-color: #434B5C;\n",
              "      box-shadow: 0px 1px 3px 1px rgba(0, 0, 0, 0.15);\n",
              "      filter: drop-shadow(0px 1px 2px rgba(0, 0, 0, 0.3));\n",
              "      fill: #FFFFFF;\n",
              "    }\n",
              "  </style>\n",
              "\n",
              "      <script>\n",
              "        const buttonEl =\n",
              "          document.querySelector('#df-16b5038f-fbe7-4559-9bd1-eb4eb35b535f button.colab-df-convert');\n",
              "        buttonEl.style.display =\n",
              "          google.colab.kernel.accessAllowed ? 'block' : 'none';\n",
              "\n",
              "        async function convertToInteractive(key) {\n",
              "          const element = document.querySelector('#df-16b5038f-fbe7-4559-9bd1-eb4eb35b535f');\n",
              "          const dataTable =\n",
              "            await google.colab.kernel.invokeFunction('convertToInteractive',\n",
              "                                                     [key], {});\n",
              "          if (!dataTable) return;\n",
              "\n",
              "          const docLinkHtml = 'Like what you see? Visit the ' +\n",
              "            '<a target=\"_blank\" href=https://colab.research.google.com/notebooks/data_table.ipynb>data table notebook</a>'\n",
              "            + ' to learn more about interactive tables.';\n",
              "          element.innerHTML = '';\n",
              "          dataTable['output_type'] = 'display_data';\n",
              "          await google.colab.output.renderOutput(dataTable, element);\n",
              "          const docLink = document.createElement('div');\n",
              "          docLink.innerHTML = docLinkHtml;\n",
              "          element.appendChild(docLink);\n",
              "        }\n",
              "      </script>\n",
              "    </div>\n",
              "  </div>\n",
              "  "
            ],
            "text/plain": [
              "       InvoiceNo  StockCode  Quantity         InvoiceDate  UnitPrice  \\\n",
              "0         536365      85123         6 2010-12-01 08:26:00       2.55   \n",
              "1         536365      71053         6 2010-12-01 08:26:00       3.39   \n",
              "2         536365      84406         8 2010-12-01 08:26:00       2.75   \n",
              "3         536365      84029         6 2010-12-01 08:26:00       3.39   \n",
              "4         536365      84029         6 2010-12-01 08:26:00       3.39   \n",
              "...          ...        ...       ...                 ...        ...   \n",
              "319395    564852      82552        10 2011-08-30 17:23:00       1.45   \n",
              "319396    564852      21756         3 2011-08-30 17:23:00       5.95   \n",
              "319397    564852      21908         7 2011-08-30 17:23:00       2.10   \n",
              "319398    564852      22116        10 2011-08-30 17:23:00       0.79   \n",
              "319399    564852      23091         2 2011-08-30 17:23:00       6.25   \n",
              "\n",
              "        CustomerID  Country  isChurn  \n",
              "0          17850.0        0        0  \n",
              "1          17850.0        0        0  \n",
              "2          17850.0        0        0  \n",
              "3          17850.0        0        0  \n",
              "4          17850.0        0        0  \n",
              "...            ...      ...      ...  \n",
              "319395     14976.0        0        1  \n",
              "319396     14976.0        0        1  \n",
              "319397     14976.0        0        1  \n",
              "319398     14976.0        0        1  \n",
              "319399     14976.0        0        1  \n",
              "\n",
              "[230128 rows x 8 columns]"
            ]
          },
          "execution_count": 53,
          "metadata": {},
          "output_type": "execute_result"
        }
      ],
      "source": [
        "train_set"
      ]
    },
    {
      "cell_type": "code",
      "execution_count": 54,
      "metadata": {
        "id": "NIWXNW9BVrVf"
      },
      "outputs": [],
      "source": [
        "train_set['CustomerID']=train_set['CustomerID'].astype(int)\n",
        "\n",
        "# Dropping invoice no\n",
        "train_set=train_set.drop(['InvoiceNo'],axis=1)"
      ]
    },
    {
      "cell_type": "code",
      "execution_count": 55,
      "metadata": {
        "id": "Z7vPUuz_VrVf"
      },
      "outputs": [],
      "source": [
        "#converting date to features\n",
        "\n",
        "train_set['month']=train_set['InvoiceDate'].dt.month.astype(int)\n",
        "train_set['year']=train_set['InvoiceDate'].dt.year.astype(int)\n",
        "train_set['day']=train_set['InvoiceDate'].dt.day.astype(int)\n",
        "train_set['hour']=train_set['InvoiceDate'].dt.hour.astype(int)\n",
        "\n",
        "train_set=train_set.drop(['InvoiceDate'],axis=1)"
      ]
    },
    {
      "cell_type": "code",
      "execution_count": 56,
      "metadata": {
        "colab": {
          "base_uri": "https://localhost:8080/"
        },
        "id": "vA5kUSeXVrVg",
        "outputId": "a1cbc4d6-9400-4a74-981e-1cb80048ac49"
      },
      "outputs": [
        {
          "data": {
            "text/plain": [
              "Index(['StockCode', 'Quantity', 'UnitPrice', 'CustomerID', 'Country',\n",
              "       'isChurn', 'month', 'year', 'day', 'hour'],\n",
              "      dtype='object')"
            ]
          },
          "execution_count": 56,
          "metadata": {},
          "output_type": "execute_result"
        }
      ],
      "source": [
        "train_set.columns"
      ]
    },
    {
      "cell_type": "code",
      "execution_count": 57,
      "metadata": {
        "colab": {
          "base_uri": "https://localhost:8080/",
          "height": 1000
        },
        "id": "Uks8w5mCVrVg",
        "outputId": "13289efe-e2de-4a39-90c6-35108fcbcb4b"
      },
      "outputs": [
        {
          "data": {
            "text/plain": [
              "<seaborn.axisgrid.JointGrid at 0x7f279f2fc3d0>"
            ]
          },
          "execution_count": 57,
          "metadata": {},
          "output_type": "execute_result"
        },
        {
          "data": {
            "image/png": "[encoded data removed]",
            "text/plain": [
              "<Figure size 432x432 with 3 Axes>"
            ]
          },
          "metadata": {
            "needs_background": "light"
          },
          "output_type": "display_data"
        },
        {
          "data": {
            "image/png": "[encoded data removed]",
            "text/plain": [
              "<Figure size 432x432 with 3 Axes>"
            ]
          },
          "metadata": {
            "needs_background": "light"
          },
          "output_type": "display_data"
        },
        {
          "data": {
            "image/png": "[encoded data removed]",
            "text/plain": [
              "<Figure size 432x432 with 3 Axes>"
            ]
          },
          "metadata": {
            "needs_background": "light"
          },
          "output_type": "display_data"
        },
        {
          "data": {
            "image/png": "[encoded data removed]",
            "text/plain": [
              "<Figure size 432x432 with 3 Axes>"
            ]
          },
          "metadata": {
            "needs_background": "light"
          },
          "output_type": "display_data"
        },
        {
          "data": {
            "image/png": "[encoded data removed]",
            "text/plain": [
              "<Figure size 432x432 with 3 Axes>"
            ]
          },
          "metadata": {
            "needs_background": "light"
          },
          "output_type": "display_data"
        },
        {
          "data": {
            "image/png": "[encoded data removed]",
            "text/plain": [
              "<Figure size 432x432 with 3 Axes>"
            ]
          },
          "metadata": {
            "needs_background": "light"
          },
          "output_type": "display_data"
        },
        {
          "data": {
            "image/png": "[encoded data removed]",
            "text/plain": [
              "<Figure size 432x432 with 3 Axes>"
            ]
          },
          "metadata": {
            "needs_background": "light"
          },
          "output_type": "display_data"
        },
        {
          "data": {
            "image/png": "[encoded data removed]",
            "text/plain": [
              "<Figure size 432x432 with 3 Axes>"
            ]
          },
          "metadata": {
            "needs_background": "light"
          },
          "output_type": "display_data"
        },
        {
          "data": {
            "image/png": "[encoded data removed]",
            "text/plain": [
              "<Figure size 432x432 with 3 Axes>"
            ]
          },
          "metadata": {
            "needs_background": "light"
          },
          "output_type": "display_data"
        }
      ],
      "source": [
        "sns.jointplot(data=train_set, x='Country', y='isChurn', kind='reg', color='g')\n",
        "sns.jointplot(data=train_set, x='StockCode', y='isChurn', kind='reg', color='g')\n",
        "sns.jointplot(data=train_set, x='month', y='isChurn', kind='reg', color='g')\n",
        "sns.jointplot(data=train_set, x='year', y='isChurn', kind='reg', color='g')\n",
        "sns.jointplot(data=train_set, x='day', y='isChurn', kind='reg', color='g')\n",
        "sns.jointplot(data=train_set, x='hour', y='isChurn', kind='reg', color='g')\n",
        "sns.jointplot(data=train_set, x='UnitPrice', y='isChurn', kind='reg', color='g')\n",
        "sns.jointplot(data=train_set, x='CustomerID', y='isChurn', kind='reg', color='g')\n",
        "sns.jointplot(data=train_set, x='Quantity', y='isChurn', kind='reg', color='g')"
      ]
    },
    {
      "cell_type": "code",
      "execution_count": 58,
      "metadata": {
        "colab": {
          "base_uri": "https://localhost:8080/",
          "height": 335
        },
        "id": "HpFWGNF1VrVg",
        "outputId": "91690953-b295-4d2e-a02f-17eefa9db1bd"
      },
      "outputs": [
        {
          "data": {
            "text/plain": [
              "<matplotlib.axes._subplots.AxesSubplot at 0x7f279478ff50>"
            ]
          },
          "execution_count": 58,
          "metadata": {},
          "output_type": "execute_result"
        },
        {
          "data": {
            "image/png": "[encoded data removed]",
            "text/plain": [
              "<Figure size 432x288 with 2 Axes>"
            ]
          },
          "metadata": {
            "needs_background": "light"
          },
          "output_type": "display_data"
        }
      ],
      "source": [
        "sns.heatmap(train_set.corr())"
      ]
    },
    {
      "cell_type": "code",
      "execution_count": 59,
      "metadata": {
        "colab": {
          "base_uri": "https://localhost:8080/",
          "height": 424
        },
        "id": "nQZv_3oeVrVg",
        "outputId": "d2490b4e-105d-4229-fe9e-0c39a7fbad66"
      },
      "outputs": [
        {
          "data": {
            "text/html": [
              "\n",
              "  <div id=\"df-ddc6d00d-aca8-42b7-8835-0fc7c98516a7\">\n",
              "    <div class=\"colab-df-container\">\n",
              "      <div>\n",
              "<style scoped>\n",
              "    .dataframe tbody tr th:only-of-type {\n",
              "        vertical-align: middle;\n",
              "    }\n",
              "\n",
              "    .dataframe tbody tr th {\n",
              "        vertical-align: top;\n",
              "    }\n",
              "\n",
              "    .dataframe thead th {\n",
              "        text-align: right;\n",
              "    }\n",
              "</style>\n",
              "<table border=\"1\" class=\"dataframe\">\n",
              "  <thead>\n",
              "    <tr style=\"text-align: right;\">\n",
              "      <th></th>\n",
              "      <th>StockCode</th>\n",
              "      <th>Quantity</th>\n",
              "      <th>UnitPrice</th>\n",
              "      <th>CustomerID</th>\n",
              "      <th>Country</th>\n",
              "      <th>isChurn</th>\n",
              "      <th>month</th>\n",
              "      <th>day</th>\n",
              "      <th>hour</th>\n",
              "    </tr>\n",
              "  </thead>\n",
              "  <tbody>\n",
              "    <tr>\n",
              "      <th>0</th>\n",
              "      <td>0.943566</td>\n",
              "      <td>-0.029790</td>\n",
              "      <td>-0.091041</td>\n",
              "      <td>0.926443</td>\n",
              "      <td>0.0</td>\n",
              "      <td>0</td>\n",
              "      <td>2.050745</td>\n",
              "      <td>-1.649149</td>\n",
              "      <td>-2.013723</td>\n",
              "    </tr>\n",
              "    <tr>\n",
              "      <th>1</th>\n",
              "      <td>0.787600</td>\n",
              "      <td>-0.029790</td>\n",
              "      <td>0.069807</td>\n",
              "      <td>0.926443</td>\n",
              "      <td>0.0</td>\n",
              "      <td>0</td>\n",
              "      <td>2.050745</td>\n",
              "      <td>-1.649149</td>\n",
              "      <td>-2.013723</td>\n",
              "    </tr>\n",
              "    <tr>\n",
              "      <th>2</th>\n",
              "      <td>0.935618</td>\n",
              "      <td>-0.020883</td>\n",
              "      <td>-0.052744</td>\n",
              "      <td>0.926443</td>\n",
              "      <td>0.0</td>\n",
              "      <td>0</td>\n",
              "      <td>2.050745</td>\n",
              "      <td>-1.649149</td>\n",
              "      <td>-2.013723</td>\n",
              "    </tr>\n",
              "    <tr>\n",
              "      <th>3</th>\n",
              "      <td>0.931439</td>\n",
              "      <td>-0.029790</td>\n",
              "      <td>0.069807</td>\n",
              "      <td>0.926443</td>\n",
              "      <td>0.0</td>\n",
              "      <td>0</td>\n",
              "      <td>2.050745</td>\n",
              "      <td>-1.649149</td>\n",
              "      <td>-2.013723</td>\n",
              "    </tr>\n",
              "    <tr>\n",
              "      <th>4</th>\n",
              "      <td>0.931439</td>\n",
              "      <td>-0.029790</td>\n",
              "      <td>0.069807</td>\n",
              "      <td>0.926443</td>\n",
              "      <td>0.0</td>\n",
              "      <td>0</td>\n",
              "      <td>2.050745</td>\n",
              "      <td>-1.649149</td>\n",
              "      <td>-2.013723</td>\n",
              "    </tr>\n",
              "    <tr>\n",
              "      <th>...</th>\n",
              "      <td>...</td>\n",
              "      <td>...</td>\n",
              "      <td>...</td>\n",
              "      <td>...</td>\n",
              "      <td>...</td>\n",
              "      <td>...</td>\n",
              "      <td>...</td>\n",
              "      <td>...</td>\n",
              "      <td>...</td>\n",
              "    </tr>\n",
              "    <tr>\n",
              "      <th>319395</th>\n",
              "      <td>0.915067</td>\n",
              "      <td>-0.011977</td>\n",
              "      <td>-0.301675</td>\n",
              "      <td>0.442686</td>\n",
              "      <td>0.0</td>\n",
              "      <td>1</td>\n",
              "      <td>0.781881</td>\n",
              "      <td>1.797567</td>\n",
              "      <td>1.879415</td>\n",
              "    </tr>\n",
              "    <tr>\n",
              "      <th>319396</th>\n",
              "      <td>0.241143</td>\n",
              "      <td>-0.043149</td>\n",
              "      <td>0.560010</td>\n",
              "      <td>0.442686</td>\n",
              "      <td>0.0</td>\n",
              "      <td>1</td>\n",
              "      <td>0.781881</td>\n",
              "      <td>1.797567</td>\n",
              "      <td>1.879415</td>\n",
              "    </tr>\n",
              "    <tr>\n",
              "      <th>319397</th>\n",
              "      <td>0.242828</td>\n",
              "      <td>-0.025336</td>\n",
              "      <td>-0.177209</td>\n",
              "      <td>0.442686</td>\n",
              "      <td>0.0</td>\n",
              "      <td>1</td>\n",
              "      <td>0.781881</td>\n",
              "      <td>1.797567</td>\n",
              "      <td>1.879415</td>\n",
              "    </tr>\n",
              "    <tr>\n",
              "      <th>319398</th>\n",
              "      <td>0.245134</td>\n",
              "      <td>-0.011977</td>\n",
              "      <td>-0.428055</td>\n",
              "      <td>0.442686</td>\n",
              "      <td>0.0</td>\n",
              "      <td>1</td>\n",
              "      <td>0.781881</td>\n",
              "      <td>1.797567</td>\n",
              "      <td>1.879415</td>\n",
              "    </tr>\n",
              "    <tr>\n",
              "      <th>319399</th>\n",
              "      <td>0.255942</td>\n",
              "      <td>-0.047602</td>\n",
              "      <td>0.617455</td>\n",
              "      <td>0.442686</td>\n",
              "      <td>0.0</td>\n",
              "      <td>1</td>\n",
              "      <td>0.781881</td>\n",
              "      <td>1.797567</td>\n",
              "      <td>1.879415</td>\n",
              "    </tr>\n",
              "  </tbody>\n",
              "</table>\n",
              "<p>230128 rows × 9 columns</p>\n",
              "</div>\n",
              "      <button class=\"colab-df-convert\" onclick=\"convertToInteractive('df-ddc6d00d-aca8-42b7-8835-0fc7c98516a7')\"\n",
              "              title=\"Convert this dataframe to an interactive table.\"\n",
              "              style=\"display:none;\">\n",
              "        \n",
              "  <svg xmlns=\"http://www.w3.org/2000/svg\" height=\"24px\"viewBox=\"0 0 24 24\"\n",
              "       width=\"24px\">\n",
              "    <path d=\"M0 0h24v24H0V0z\" fill=\"none\"/>\n",
              "    <path d=\"M18.56 5.44l.94 2.06.94-2.06 2.06-.94-2.06-.94-.94-2.06-.94 2.06-2.06.94zm-11 1L8.5 8.5l.94-2.06 2.06-.94-2.06-.94L8.5 2.5l-.94 2.06-2.06.94zm10 10l.94 2.06.94-2.06 2.06-.94-2.06-.94-.94-2.06-.94 2.06-2.06.94z\"/><path d=\"M17.41 7.96l-1.37-1.37c-.4-.4-.92-.59-1.43-.59-.52 0-1.04.2-1.43.59L10.3 9.45l-7.72 7.72c-.78.78-.78 2.05 0 2.83L4 21.41c.39.39.9.59 1.41.59.51 0 1.02-.2 1.41-.59l7.78-7.78 2.81-2.81c.8-.78.8-2.07 0-2.86zM5.41 20L4 18.59l7.72-7.72 1.47 1.35L5.41 20z\"/>\n",
              "  </svg>\n",
              "      </button>\n",
              "      \n",
              "  <style>\n",
              "    .colab-df-container {\n",
              "      display:flex;\n",
              "      flex-wrap:wrap;\n",
              "      gap: 12px;\n",
              "    }\n",
              "\n",
              "    .colab-df-convert {\n",
              "      background-color: #E8F0FE;\n",
              "      border: none;\n",
              "      border-radius: 50%;\n",
              "      cursor: pointer;\n",
              "      display: none;\n",
              "      fill: #1967D2;\n",
              "      height: 32px;\n",
              "      padding: 0 0 0 0;\n",
              "      width: 32px;\n",
              "    }\n",
              "\n",
              "    .colab-df-convert:hover {\n",
              "      background-color: #E2EBFA;\n",
              "      box-shadow: 0px 1px 2px rgba(60, 64, 67, 0.3), 0px 1px 3px 1px rgba(60, 64, 67, 0.15);\n",
              "      fill: #174EA6;\n",
              "    }\n",
              "\n",
              "    [theme=dark] .colab-df-convert {\n",
              "      background-color: #3B4455;\n",
              "      fill: #D2E3FC;\n",
              "    }\n",
              "\n",
              "    [theme=dark] .colab-df-convert:hover {\n",
              "      background-color: #434B5C;\n",
              "      box-shadow: 0px 1px 3px 1px rgba(0, 0, 0, 0.15);\n",
              "      filter: drop-shadow(0px 1px 2px rgba(0, 0, 0, 0.3));\n",
              "      fill: #FFFFFF;\n",
              "    }\n",
              "  </style>\n",
              "\n",
              "      <script>\n",
              "        const buttonEl =\n",
              "          document.querySelector('#df-ddc6d00d-aca8-42b7-8835-0fc7c98516a7 button.colab-df-convert');\n",
              "        buttonEl.style.display =\n",
              "          google.colab.kernel.accessAllowed ? 'block' : 'none';\n",
              "\n",
              "        async function convertToInteractive(key) {\n",
              "          const element = document.querySelector('#df-ddc6d00d-aca8-42b7-8835-0fc7c98516a7');\n",
              "          const dataTable =\n",
              "            await google.colab.kernel.invokeFunction('convertToInteractive',\n",
              "                                                     [key], {});\n",
              "          if (!dataTable) return;\n",
              "\n",
              "          const docLinkHtml = 'Like what you see? Visit the ' +\n",
              "            '<a target=\"_blank\" href=https://colab.research.google.com/notebooks/data_table.ipynb>data table notebook</a>'\n",
              "            + ' to learn more about interactive tables.';\n",
              "          element.innerHTML = '';\n",
              "          dataTable['output_type'] = 'display_data';\n",
              "          await google.colab.output.renderOutput(dataTable, element);\n",
              "          const docLink = document.createElement('div');\n",
              "          docLink.innerHTML = docLinkHtml;\n",
              "          element.appendChild(docLink);\n",
              "        }\n",
              "      </script>\n",
              "    </div>\n",
              "  </div>\n",
              "  "
            ],
            "text/plain": [
              "        StockCode  Quantity  UnitPrice  CustomerID  Country  isChurn  \\\n",
              "0        0.943566 -0.029790  -0.091041    0.926443      0.0        0   \n",
              "1        0.787600 -0.029790   0.069807    0.926443      0.0        0   \n",
              "2        0.935618 -0.020883  -0.052744    0.926443      0.0        0   \n",
              "3        0.931439 -0.029790   0.069807    0.926443      0.0        0   \n",
              "4        0.931439 -0.029790   0.069807    0.926443      0.0        0   \n",
              "...           ...       ...        ...         ...      ...      ...   \n",
              "319395   0.915067 -0.011977  -0.301675    0.442686      0.0        1   \n",
              "319396   0.241143 -0.043149   0.560010    0.442686      0.0        1   \n",
              "319397   0.242828 -0.025336  -0.177209    0.442686      0.0        1   \n",
              "319398   0.245134 -0.011977  -0.428055    0.442686      0.0        1   \n",
              "319399   0.255942 -0.047602   0.617455    0.442686      0.0        1   \n",
              "\n",
              "           month       day      hour  \n",
              "0       2.050745 -1.649149 -2.013723  \n",
              "1       2.050745 -1.649149 -2.013723  \n",
              "2       2.050745 -1.649149 -2.013723  \n",
              "3       2.050745 -1.649149 -2.013723  \n",
              "4       2.050745 -1.649149 -2.013723  \n",
              "...          ...       ...       ...  \n",
              "319395  0.781881  1.797567  1.879415  \n",
              "319396  0.781881  1.797567  1.879415  \n",
              "319397  0.781881  1.797567  1.879415  \n",
              "319398  0.781881  1.797567  1.879415  \n",
              "319399  0.781881  1.797567  1.879415  \n",
              "\n",
              "[230128 rows x 9 columns]"
            ]
          },
          "execution_count": 59,
          "metadata": {},
          "output_type": "execute_result"
        }
      ],
      "source": [
        "#normalising train set\n",
        "from hmac import trans_36\n",
        "from sklearn.preprocessing import StandardScaler,MinMaxScaler\n",
        "scaler1=StandardScaler()\n",
        "scaler2=MinMaxScaler()\n",
        "\n",
        "train_set['StockCode']=scaler2.fit_transform(train_set[['StockCode']])\n",
        "train_set['CustomerID']=scaler2.fit_transform(train_set[['CustomerID']])\n",
        "train_set['Country']=scaler2.fit_transform(train_set[['Country']])\n",
        "\n",
        "train_set['Quantity']=scaler1.fit_transform(train_set[['Quantity']])\n",
        "train_set['UnitPrice']=scaler1.fit_transform(train_set[['UnitPrice']])\n",
        "train_set['month']=scaler1.fit_transform(train_set[['month']])\n",
        "train_set['year']=scaler1.fit_transform(train_set[['year']])\n",
        "train_set['day']=scaler1.fit_transform(train_set[['day']])\n",
        "train_set['hour']=scaler1.fit_transform(train_set[['hour']])\n",
        "\n",
        "\n",
        "#dropping useless cols\n",
        "train_set=train_set.drop(['year'],axis=1)\n",
        "\n",
        "\n",
        "train_set\n"
      ]
    },
    {
      "cell_type": "code",
      "execution_count": 60,
      "metadata": {
        "id": "I1MoKOz7VrVh"
      },
      "outputs": [],
      "source": [
        "y=train_set['isChurn']\n",
        "x=train_set.drop(['isChurn'],axis=1)"
      ]
    },
    {
      "cell_type": "code",
      "execution_count": 61,
      "metadata": {
        "id": "Dl_qmD_9VrVh"
      },
      "outputs": [],
      "source": [
        "#dividing data set into train test and dev\n",
        "#80/20\n",
        "from sklearn.model_selection import train_test_split\n",
        "\n",
        "X_train,X_test,y_train,y_test = train_test_split(x,y,test_size=0.2,random_state=1)"
      ]
    },
    {
      "cell_type": "code",
      "execution_count": 62,
      "metadata": {
        "id": "dIcU1U-oVrVh"
      },
      "outputs": [],
      "source": [
        "#80/20\n",
        "X_train,X_val,y_train,y_val = sk.model_selection.train_test_split(X_train,y_train,test_size=0.2,random_state=1)"
      ]
    },
    {
      "cell_type": "code",
      "execution_count": 63,
      "metadata": {
        "colab": {
          "base_uri": "https://localhost:8080/"
        },
        "id": "_-gROjQMVrVi",
        "outputId": "58bdead7-dc14-4405-9b03-99a436e28447"
      },
      "outputs": [
        {
          "data": {
            "text/plain": [
              "DecisionTreeClassifier()"
            ]
          },
          "execution_count": 63,
          "metadata": {},
          "output_type": "execute_result"
        }
      ],
      "source": [
        "#decision Tree\n",
        "\n",
        "from sklearn.tree import DecisionTreeClassifier\n",
        "\n",
        "model1=DecisionTreeClassifier()\n",
        "model1.fit(X_train,y_train)"
      ]
    },
    {
      "cell_type": "code",
      "execution_count": 64,
      "metadata": {
        "id": "bldX-IXQVrVi"
      },
      "outputs": [],
      "source": [
        "y_pred = model1.predict(X_test)"
      ]
    },
    {
      "cell_type": "code",
      "execution_count": 65,
      "metadata": {
        "colab": {
          "base_uri": "https://localhost:8080/"
        },
        "id": "ovawGRO3VrVi",
        "outputId": "048f0b48-5e34-4262-83d3-ad20ce06534d"
      },
      "outputs": [
        {
          "name": "stdout",
          "output_type": "stream",
          "text": [
            "[[ 8533   267]\n",
            " [  301 36925]]\n",
            "              precision    recall  f1-score   support\n",
            "\n",
            "           0       0.97      0.97      0.97      8800\n",
            "           1       0.99      0.99      0.99     37226\n",
            "\n",
            "    accuracy                           0.99     46026\n",
            "   macro avg       0.98      0.98      0.98     46026\n",
            "weighted avg       0.99      0.99      0.99     46026\n",
            "\n"
          ]
        }
      ],
      "source": [
        "#evaluating decision tree\n",
        "from sklearn.metrics import classification_report, confusion_matrix\n",
        "print(confusion_matrix(y_test, y_pred))\n",
        "print(classification_report(y_test, y_pred))"
      ]
    },
    {
      "cell_type": "code",
      "execution_count": 66,
      "metadata": {
        "colab": {
          "base_uri": "https://localhost:8080/"
        },
        "id": "6nsg8oT-VrVi",
        "outputId": "06c77d54-fa2b-4d31-987f-607e4cebdd4e"
      },
      "outputs": [
        {
          "name": "stdout",
          "output_type": "stream",
          "text": [
            "[LibLinear]"
          ]
        },
        {
          "name": "stderr",
          "output_type": "stream",
          "text": [
            "/usr/local/lib/python3.7/dist-packages/sklearn/svm/_base.py:1208: ConvergenceWarning: Liblinear failed to converge, increase the number of iterations.\n",
            "  ConvergenceWarning,\n"
          ]
        },
        {
          "data": {
            "text/plain": [
              "LinearSVC(max_iter=5000, verbose=True)"
            ]
          },
          "execution_count": 66,
          "metadata": {},
          "output_type": "execute_result"
        }
      ],
      "source": [
        "#SVM\n",
        "from sklearn.svm import LinearSVC\n",
        "\n",
        "model2=LinearSVC(max_iter=5000,verbose=True)\n",
        "model2.fit(X_train,y_train)"
      ]
    },
    {
      "cell_type": "code",
      "execution_count": 67,
      "metadata": {
        "id": "wc1gA-7jVrVi"
      },
      "outputs": [],
      "source": [
        "y_pred = model2.predict(X_test)"
      ]
    },
    {
      "cell_type": "code",
      "execution_count": 68,
      "metadata": {
        "colab": {
          "base_uri": "https://localhost:8080/"
        },
        "id": "0w67Lw9WVrVj",
        "outputId": "c6bdbbb4-cda4-4ce9-9656-5f5cf28d2214"
      },
      "outputs": [
        {
          "name": "stdout",
          "output_type": "stream",
          "text": [
            "[[   24  8776]\n",
            " [   15 37211]]\n",
            "              precision    recall  f1-score   support\n",
            "\n",
            "           0       0.62      0.00      0.01      8800\n",
            "           1       0.81      1.00      0.89     37226\n",
            "\n",
            "    accuracy                           0.81     46026\n",
            "   macro avg       0.71      0.50      0.45     46026\n",
            "weighted avg       0.77      0.81      0.72     46026\n",
            "\n"
          ]
        }
      ],
      "source": [
        "#evaluating SVM\n",
        "from sklearn.metrics import classification_report, confusion_matrix\n",
        "print(confusion_matrix(y_test, y_pred))\n",
        "print(classification_report(y_test, y_pred))"
      ]
    },
    {
      "cell_type": "code",
      "execution_count": 69,
      "metadata": {
        "colab": {
          "base_uri": "https://localhost:8080/"
        },
        "id": "vRcTD9skVrVj",
        "outputId": "f28865b6-8af1-4339-8922-b5801a7c97e7"
      },
      "outputs": [
        {
          "name": "stdout",
          "output_type": "stream",
          "text": [
            "Iteration 1, loss = 0.48819269\n",
            "Iteration 2, loss = 0.47911344\n",
            "Iteration 3, loss = 0.47728599\n",
            "Iteration 4, loss = 0.47595013\n",
            "Iteration 5, loss = 0.47459803\n",
            "Iteration 6, loss = 0.47344241\n",
            "Iteration 7, loss = 0.47239762\n",
            "Iteration 8, loss = 0.47136346\n",
            "Iteration 9, loss = 0.47067658\n",
            "Iteration 10, loss = 0.46968595\n",
            "Iteration 11, loss = 0.46874711\n",
            "Iteration 12, loss = 0.46810354\n",
            "Iteration 13, loss = 0.46717371\n",
            "Iteration 14, loss = 0.46662701\n",
            "Iteration 15, loss = 0.46585983\n",
            "Iteration 16, loss = 0.46516027\n",
            "Iteration 17, loss = 0.46480784\n",
            "Iteration 18, loss = 0.46430743\n",
            "Iteration 19, loss = 0.46356023\n",
            "Iteration 20, loss = 0.46305324\n",
            "Iteration 21, loss = 0.46255185\n",
            "Iteration 22, loss = 0.46193209\n",
            "Iteration 23, loss = 0.46152185\n",
            "Iteration 24, loss = 0.46131876\n",
            "Iteration 25, loss = 0.46086200\n",
            "Iteration 26, loss = 0.46061832\n",
            "Iteration 27, loss = 0.45987702\n",
            "Iteration 28, loss = 0.45944105\n",
            "Iteration 29, loss = 0.45929477\n",
            "Iteration 30, loss = 0.45880365\n",
            "Iteration 31, loss = 0.45823817\n",
            "Iteration 32, loss = 0.45806697\n",
            "Iteration 33, loss = 0.45747681\n",
            "Iteration 34, loss = 0.45726564\n",
            "Iteration 35, loss = 0.45670183\n",
            "Iteration 36, loss = 0.45661224\n",
            "Iteration 37, loss = 0.45584785\n",
            "Iteration 38, loss = 0.45548666\n",
            "Iteration 39, loss = 0.45524715\n",
            "Iteration 40, loss = 0.45501613\n",
            "Iteration 41, loss = 0.45450345\n",
            "Iteration 42, loss = 0.45435845\n",
            "Iteration 43, loss = 0.45379698\n",
            "Iteration 44, loss = 0.45343622\n",
            "Iteration 45, loss = 0.45326047\n",
            "Iteration 46, loss = 0.45283096\n",
            "Iteration 47, loss = 0.45273704\n",
            "Iteration 48, loss = 0.45240044\n",
            "Iteration 49, loss = 0.45186039\n",
            "Iteration 50, loss = 0.45204339\n",
            "Iteration 51, loss = 0.45160682\n",
            "Iteration 52, loss = 0.45113756\n",
            "Iteration 53, loss = 0.45118872\n",
            "Iteration 54, loss = 0.45086672\n",
            "Iteration 55, loss = 0.45027066\n",
            "Iteration 56, loss = 0.44996481\n",
            "Iteration 57, loss = 0.45004656\n",
            "Iteration 58, loss = 0.44992912\n",
            "Iteration 59, loss = 0.44963411\n",
            "Iteration 60, loss = 0.44935384\n",
            "Iteration 61, loss = 0.44902742\n",
            "Iteration 62, loss = 0.44877369\n",
            "Iteration 63, loss = 0.44877098\n",
            "Iteration 64, loss = 0.44899068\n",
            "Iteration 65, loss = 0.44811213\n",
            "Iteration 66, loss = 0.44813355\n",
            "Iteration 67, loss = 0.44779899\n",
            "Iteration 68, loss = 0.44757164\n",
            "Iteration 69, loss = 0.44700139\n",
            "Iteration 70, loss = 0.44750487\n",
            "Iteration 71, loss = 0.44699290\n",
            "Iteration 72, loss = 0.44676359\n",
            "Iteration 73, loss = 0.44641424\n",
            "Iteration 74, loss = 0.44648679\n",
            "Iteration 75, loss = 0.44664552\n",
            "Iteration 76, loss = 0.44576651\n",
            "Iteration 77, loss = 0.44599003\n",
            "Iteration 78, loss = 0.44572662\n",
            "Iteration 79, loss = 0.44533382\n",
            "Iteration 80, loss = 0.44524433\n",
            "Iteration 81, loss = 0.44510460\n",
            "Iteration 82, loss = 0.44478212\n",
            "Iteration 83, loss = 0.44526730\n",
            "Iteration 84, loss = 0.44508439\n",
            "Iteration 85, loss = 0.44440037\n",
            "Iteration 86, loss = 0.44415904\n",
            "Iteration 87, loss = 0.44406517\n",
            "Iteration 88, loss = 0.44397203\n",
            "Iteration 89, loss = 0.44363587\n",
            "Iteration 90, loss = 0.44368020\n",
            "Iteration 91, loss = 0.44360290\n",
            "Iteration 92, loss = 0.44344930\n",
            "Iteration 93, loss = 0.44442666\n",
            "Iteration 94, loss = 0.44339704\n",
            "Iteration 95, loss = 0.44288907\n",
            "Iteration 96, loss = 0.44289430\n",
            "Iteration 97, loss = 0.44270970\n",
            "Iteration 98, loss = 0.44238381\n",
            "Iteration 99, loss = 0.44221068\n",
            "Iteration 100, loss = 0.44231031\n",
            "Iteration 101, loss = 0.44257626\n",
            "Iteration 102, loss = 0.44190076\n",
            "Iteration 103, loss = 0.44162033\n",
            "Iteration 104, loss = 0.44147191\n",
            "Iteration 105, loss = 0.44127199\n",
            "Iteration 106, loss = 0.44133301\n",
            "Iteration 107, loss = 0.44119280\n",
            "Iteration 108, loss = 0.44100943\n",
            "Iteration 109, loss = 0.44137801\n",
            "Iteration 110, loss = 0.44094661\n",
            "Iteration 111, loss = 0.44077000\n",
            "Iteration 112, loss = 0.44049483\n",
            "Iteration 113, loss = 0.44033414\n",
            "Iteration 114, loss = 0.43962396\n",
            "Iteration 115, loss = 0.43988160\n",
            "Iteration 116, loss = 0.43975880\n",
            "Iteration 117, loss = 0.43989890\n",
            "Iteration 118, loss = 0.43971639\n",
            "Iteration 119, loss = 0.43952602\n",
            "Iteration 120, loss = 0.43968088\n",
            "Iteration 121, loss = 0.43965210\n",
            "Iteration 122, loss = 0.43880775\n",
            "Iteration 123, loss = 0.43891730\n",
            "Iteration 124, loss = 0.43875738\n",
            "Iteration 125, loss = 0.43969852\n",
            "Iteration 126, loss = 0.43880559\n",
            "Iteration 127, loss = 0.43876972\n",
            "Iteration 128, loss = 0.43855082\n",
            "Iteration 129, loss = 0.43805588\n",
            "Iteration 130, loss = 0.43761471\n",
            "Iteration 131, loss = 0.43764567\n",
            "Iteration 132, loss = 0.43793247\n",
            "Iteration 133, loss = 0.43737602\n",
            "Iteration 134, loss = 0.43773686\n",
            "Iteration 135, loss = 0.43778651\n",
            "Iteration 136, loss = 0.43768537\n",
            "Iteration 137, loss = 0.43713974\n",
            "Iteration 138, loss = 0.43708004\n",
            "Iteration 139, loss = 0.43746818\n",
            "Iteration 140, loss = 0.43678586\n",
            "Iteration 141, loss = 0.43645158\n",
            "Iteration 142, loss = 0.43656637\n",
            "Iteration 143, loss = 0.43612489\n",
            "Iteration 144, loss = 0.43662892\n",
            "Iteration 145, loss = 0.43606553\n",
            "Iteration 146, loss = 0.43596298\n",
            "Iteration 147, loss = 0.43586488\n",
            "Iteration 148, loss = 0.43639204\n",
            "Iteration 149, loss = 0.43588242\n",
            "Iteration 150, loss = 0.43549586\n",
            "Iteration 151, loss = 0.43522767\n",
            "Iteration 152, loss = 0.43554148\n",
            "Iteration 153, loss = 0.43548835\n",
            "Iteration 154, loss = 0.43520128\n",
            "Iteration 155, loss = 0.43547832\n",
            "Iteration 156, loss = 0.43517105\n",
            "Iteration 157, loss = 0.43613113\n",
            "Iteration 158, loss = 0.43517610\n",
            "Iteration 159, loss = 0.43496218\n",
            "Iteration 160, loss = 0.43459983\n",
            "Iteration 161, loss = 0.43458722\n",
            "Iteration 162, loss = 0.43481600\n",
            "Iteration 163, loss = 0.43458862\n",
            "Iteration 164, loss = 0.43442273\n",
            "Iteration 165, loss = 0.43454766\n",
            "Iteration 166, loss = 0.43469947\n",
            "Iteration 167, loss = 0.43411243\n",
            "Iteration 168, loss = 0.43512779\n",
            "Iteration 169, loss = 0.43400543\n",
            "Iteration 170, loss = 0.43408489\n",
            "Iteration 171, loss = 0.43422313\n",
            "Iteration 172, loss = 0.43408437\n",
            "Iteration 173, loss = 0.43413476\n",
            "Iteration 174, loss = 0.43428139\n",
            "Iteration 175, loss = 0.43373795\n",
            "Iteration 176, loss = 0.43346732\n",
            "Iteration 177, loss = 0.43347435\n",
            "Iteration 178, loss = 0.43426559\n",
            "Iteration 179, loss = 0.43334619\n",
            "Iteration 180, loss = 0.43320546\n",
            "Iteration 181, loss = 0.43342304\n",
            "Iteration 182, loss = 0.43308118\n",
            "Iteration 183, loss = 0.43316066\n",
            "Iteration 184, loss = 0.43374844\n",
            "Iteration 185, loss = 0.43310419\n",
            "Iteration 186, loss = 0.43308595\n",
            "Iteration 187, loss = 0.43306097\n",
            "Iteration 188, loss = 0.43245421\n",
            "Iteration 189, loss = 0.43292926\n",
            "Iteration 190, loss = 0.43353321\n",
            "Iteration 191, loss = 0.43274260\n",
            "Iteration 192, loss = 0.43257771\n",
            "Iteration 193, loss = 0.43249759\n",
            "Iteration 194, loss = 0.43245518\n",
            "Iteration 195, loss = 0.43237065\n",
            "Iteration 196, loss = 0.43215746\n",
            "Iteration 197, loss = 0.43241884\n",
            "Iteration 198, loss = 0.43255262\n",
            "Iteration 199, loss = 0.43206466\n",
            "Iteration 200, loss = 0.43225858\n",
            "Iteration 201, loss = 0.43308205\n",
            "Iteration 202, loss = 0.43231015\n",
            "Iteration 203, loss = 0.43179046\n",
            "Iteration 204, loss = 0.43147688\n",
            "Iteration 205, loss = 0.43204780\n",
            "Iteration 206, loss = 0.43169371\n",
            "Iteration 207, loss = 0.43196857\n",
            "Iteration 208, loss = 0.43162326\n",
            "Iteration 209, loss = 0.43207245\n",
            "Iteration 210, loss = 0.43281948\n",
            "Iteration 211, loss = 0.43167452\n",
            "Iteration 212, loss = 0.43130777\n",
            "Iteration 213, loss = 0.43145731\n",
            "Iteration 214, loss = 0.43149306\n",
            "Iteration 215, loss = 0.43098781\n",
            "Iteration 216, loss = 0.43110655\n",
            "Iteration 217, loss = 0.43109611\n",
            "Iteration 218, loss = 0.43112188\n",
            "Iteration 219, loss = 0.43187127\n",
            "Iteration 220, loss = 0.43103933\n",
            "Iteration 221, loss = 0.43121794\n",
            "Iteration 222, loss = 0.43081828\n",
            "Iteration 223, loss = 0.43079516\n",
            "Iteration 224, loss = 0.43087159\n",
            "Iteration 225, loss = 0.43068428\n",
            "Iteration 226, loss = 0.43049609\n",
            "Iteration 227, loss = 0.43046641\n",
            "Iteration 228, loss = 0.43129372\n",
            "Iteration 229, loss = 0.43067703\n",
            "Iteration 230, loss = 0.43037665\n",
            "Iteration 231, loss = 0.43018463\n",
            "Iteration 232, loss = 0.43079183\n",
            "Iteration 233, loss = 0.43010418\n",
            "Iteration 234, loss = 0.42999733\n",
            "Iteration 235, loss = 0.43130923\n",
            "Iteration 236, loss = 0.43068948\n",
            "Iteration 237, loss = 0.43016367\n",
            "Iteration 238, loss = 0.43011517\n",
            "Iteration 239, loss = 0.42980249\n",
            "Iteration 240, loss = 0.42953654\n",
            "Iteration 241, loss = 0.42988202\n",
            "Iteration 242, loss = 0.42994984\n",
            "Iteration 243, loss = 0.42962348\n",
            "Iteration 244, loss = 0.42983325\n",
            "Iteration 245, loss = 0.42982353\n",
            "Iteration 246, loss = 0.42964718\n",
            "Iteration 247, loss = 0.42931778\n",
            "Iteration 248, loss = 0.43033839\n",
            "Iteration 249, loss = 0.43016910\n",
            "Iteration 250, loss = 0.42900877\n",
            "Iteration 251, loss = 0.42888197\n",
            "Iteration 252, loss = 0.42925588\n",
            "Iteration 253, loss = 0.42896798\n",
            "Iteration 254, loss = 0.42933887\n",
            "Iteration 255, loss = 0.42889746\n",
            "Iteration 256, loss = 0.42933360\n",
            "Iteration 257, loss = 0.42889308\n",
            "Iteration 258, loss = 0.42845253\n",
            "Iteration 259, loss = 0.42899079\n",
            "Iteration 260, loss = 0.42862980\n",
            "Iteration 261, loss = 0.42891869\n",
            "Iteration 262, loss = 0.42924345\n",
            "Iteration 263, loss = 0.42899737\n",
            "Iteration 264, loss = 0.42803425\n",
            "Iteration 265, loss = 0.42837960\n",
            "Iteration 266, loss = 0.42838621\n",
            "Iteration 267, loss = 0.42844708\n",
            "Iteration 268, loss = 0.42790004\n",
            "Iteration 269, loss = 0.42825934\n",
            "Iteration 270, loss = 0.42795517\n",
            "Iteration 271, loss = 0.42834985\n",
            "Iteration 272, loss = 0.42828545\n",
            "Iteration 273, loss = 0.42815754\n",
            "Iteration 274, loss = 0.42809636\n",
            "Iteration 275, loss = 0.42886921\n",
            "Iteration 276, loss = 0.42836502\n",
            "Iteration 277, loss = 0.42789512\n",
            "Iteration 278, loss = 0.42766942\n",
            "Iteration 279, loss = 0.42757420\n",
            "Iteration 280, loss = 0.42751147\n",
            "Iteration 281, loss = 0.42811508\n",
            "Iteration 282, loss = 0.42753496\n",
            "Iteration 283, loss = 0.42840113\n",
            "Iteration 284, loss = 0.42781270\n",
            "Iteration 285, loss = 0.42780397\n",
            "Iteration 286, loss = 0.42700317\n",
            "Iteration 287, loss = 0.42703502\n",
            "Iteration 288, loss = 0.42830008\n",
            "Iteration 289, loss = 0.42815746\n",
            "Iteration 290, loss = 0.42734476\n",
            "Iteration 291, loss = 0.42712422\n",
            "Iteration 292, loss = 0.42699969\n",
            "Iteration 293, loss = 0.42740872\n",
            "Iteration 294, loss = 0.42685733\n",
            "Iteration 295, loss = 0.42683086\n",
            "Iteration 296, loss = 0.42689740\n",
            "Iteration 297, loss = 0.42660886\n",
            "Iteration 298, loss = 0.42625319\n",
            "Iteration 299, loss = 0.42811059\n",
            "Iteration 300, loss = 0.42672324\n",
            "Iteration 301, loss = 0.42644378\n",
            "Iteration 302, loss = 0.42672837\n",
            "Iteration 303, loss = 0.42653351\n",
            "Iteration 304, loss = 0.42789501\n",
            "Iteration 305, loss = 0.42635327\n",
            "Iteration 306, loss = 0.42612310\n",
            "Iteration 307, loss = 0.42625983\n",
            "Iteration 308, loss = 0.42669590\n",
            "Iteration 309, loss = 0.42683197\n",
            "Iteration 310, loss = 0.42587920\n",
            "Iteration 311, loss = 0.42588510\n",
            "Iteration 312, loss = 0.42587810\n",
            "Iteration 313, loss = 0.42653224\n",
            "Iteration 314, loss = 0.42598352\n",
            "Iteration 315, loss = 0.42628970\n",
            "Iteration 316, loss = 0.42601683\n",
            "Iteration 317, loss = 0.42535910\n",
            "Iteration 318, loss = 0.42559367\n",
            "Iteration 319, loss = 0.42619871\n",
            "Iteration 320, loss = 0.42661167\n",
            "Iteration 321, loss = 0.42644224\n",
            "Iteration 322, loss = 0.42559774\n",
            "Iteration 323, loss = 0.42573463\n",
            "Iteration 324, loss = 0.42528784\n",
            "Iteration 325, loss = 0.42591782\n",
            "Iteration 326, loss = 0.42568316\n",
            "Iteration 327, loss = 0.42559685\n",
            "Iteration 328, loss = 0.42679339\n",
            "Training loss did not improve more than tol=0.000100 for 10 consecutive epochs. Stopping.\n"
          ]
        },
        {
          "data": {
            "text/plain": [
              "MLPClassifier(max_iter=5000, verbose=True)"
            ]
          },
          "execution_count": 69,
          "metadata": {},
          "output_type": "execute_result"
        }
      ],
      "source": [
        "#ANN\n",
        "from sklearn.neural_network import MLPClassifier\n",
        "\n",
        "model3=MLPClassifier(max_iter=5000,verbose=True)\n",
        "model3.fit(X_train,y_train)"
      ]
    },
    {
      "cell_type": "code",
      "execution_count": 70,
      "metadata": {
        "id": "MlRiyo2fVrVj"
      },
      "outputs": [],
      "source": [
        "y_pred = model3.predict(X_test)"
      ]
    },
    {
      "cell_type": "code",
      "execution_count": 71,
      "metadata": {
        "colab": {
          "base_uri": "https://localhost:8080/"
        },
        "id": "8JfzjSeVVrVj",
        "outputId": "bcc0d1e9-8b28-412e-cfd2-d354c5129b8c"
      },
      "outputs": [
        {
          "name": "stdout",
          "output_type": "stream",
          "text": [
            "[[ 1584  7216]\n",
            " [ 1165 36061]]\n",
            "              precision    recall  f1-score   support\n",
            "\n",
            "           0       0.58      0.18      0.27      8800\n",
            "           1       0.83      0.97      0.90     37226\n",
            "\n",
            "    accuracy                           0.82     46026\n",
            "   macro avg       0.70      0.57      0.59     46026\n",
            "weighted avg       0.78      0.82      0.78     46026\n",
            "\n"
          ]
        }
      ],
      "source": [
        "#evaluating neural network\n",
        "from sklearn.metrics import classification_report, confusion_matrix\n",
        "print(confusion_matrix(y_test, y_pred))\n",
        "print(classification_report(y_test, y_pred))"
      ]
    }
  ],
  "metadata": {
    "accelerator": "GPU",
    "colab": {
      "provenance": []
    },
    "gpuClass": "standard",
    "kernelspec": {
      "display_name": "Python 3 (ipykernel)",
      "language": "python",
      "name": "python3"
    },
    "language_info": {
      "codemirror_mode": {
        "name": "ipython",
        "version": 3
      },
      "file_extension": ".py",
      "mimetype": "text/x-python",
      "name": "python",
      "nbconvert_exporter": "python",
      "pygments_lexer": "ipython3",
      "version": "3.10.8"
    },
    "vscode": {
      "interpreter": {
        "hash": "a49699b84847a2a8a89e552af4908df39400f1321bee51111a8dbb2d6d8ca57a"
      }
    }
  },
  "nbformat": 4,
  "nbformat_minor": 0
}
